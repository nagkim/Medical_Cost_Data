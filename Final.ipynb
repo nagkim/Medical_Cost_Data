{
 "cells": [
  {
   "cell_type": "markdown",
   "metadata": {},
   "source": [
    "## Medical Insurance Cost Prediction Project"
   ]
  },
  {
   "cell_type": "markdown",
   "metadata": {},
   "source": [
    "#### About Project\n",
    "The problem that is being tackled in this project is the estimation of health insurance costs using individuals personal and health-related information. It can be useful for insurance companies to estimate the cost of insuring a person."
   ]
  },
  {
   "cell_type": "markdown",
   "metadata": {},
   "source": [
    "#### Brief introduction\n",
    "\n",
    "In this project, my main aim is to find the optimal regression model which would predict a fee that the insurance company will (presumably, annually) charge a new client for an insurance policy (I.P. for short). The possible sum is defined by following client’s personal features:\n",
    "1. age\n",
    "2. sex\n",
    "3. body mass index (bmi)\n",
    "4. number of children covered by health insurance (=number of children)\n",
    "5. whether the client is smoker or not\n",
    "6. region\n",
    "\n",
    "The dataset I used in this project is the \"Medical Cost Personal Datasets\" available on Kaggle. The dataset contains information about 1338 individuals, including their age, sex, body mass index (BMI), number of children, smoking status, region, and medical expenses. I chose this data because it is real-world data, and the variables included can have a significant impact on medical insurance costs. \n",
    "\n",
    "https://www.kaggle.com/datasets/mirichoi0218/insurance\n",
    "\n",
    "\n"
   ]
  },
  {
   "cell_type": "markdown",
   "metadata": {},
   "source": [
    "### Import Libraries and Dataset\n"
   ]
  },
  {
   "cell_type": "code",
   "execution_count": 26,
   "metadata": {
    "execution": {
     "iopub.execute_input": "2023-06-04T09:58:38.157782Z",
     "iopub.status.busy": "2023-06-04T09:58:38.157396Z",
     "iopub.status.idle": "2023-06-04T09:58:38.167933Z",
     "shell.execute_reply": "2023-06-04T09:58:38.166701Z",
     "shell.execute_reply.started": "2023-06-04T09:58:38.157756Z"
    }
   },
   "outputs": [],
   "source": [
    "# Basic packages:\n",
    "import numpy as np\n",
    "import pandas as pd\n",
    "import seaborn as sns\n",
    "import matplotlib.pyplot as plt\n",
    "from sklearn.model_selection import train_test_split\n",
    "\n",
    "# Feature engineering tasks:\n",
    "from sklearn.preprocessing import OneHotEncoder, RobustScaler\n",
    "from sklearn.ensemble import RandomForestRegressor # for permutation importance\n",
    "from sklearn.inspection import permutation_importance\n",
    "from scipy.stats import shapiro\n",
    "\n",
    "# Regression estimators:\n",
    "from sklearn.linear_model import LinearRegression, Ridge, Lasso\n",
    "from sklearn.neighbors import KNeighborsRegressor\n",
    "from sklearn.ensemble import RandomForestRegressor\n",
    "from sklearn.tree import DecisionTreeRegressor\n",
    "\n",
    "# Other modelling packages:\n",
    "from sklearn.model_selection import GridSearchCV\n",
    "from sklearn.model_selection import cross_val_score, cross_val_predict\n",
    "from sklearn.metrics import roc_auc_score, RocCurveDisplay\n",
    "\n",
    "# Pipeline packages:\n",
    "from sklearn.pipeline import Pipeline, make_pipeline, FeatureUnion\n",
    "from sklearn.compose import ColumnTransformer, make_column_selector\n",
    "from sklearn.impute import SimpleImputer\n",
    "\n",
    "# Other Libraries\n",
    "import warnings\n",
    "warnings.filterwarnings(\"ignore\")\n",
    "\n",
    "plt.style.use('ggplot')\n",
    "\n",
    "sns.set_style(\"white\")\n",
    "sns.set_palette(\"pastel\")"
   ]
  },
  {
   "cell_type": "markdown",
   "metadata": {},
   "source": [
    "### About Data "
   ]
  },
  {
   "cell_type": "code",
   "execution_count": 2,
   "metadata": {
    "execution": {
     "iopub.execute_input": "2023-06-04T09:58:38.170657Z",
     "iopub.status.busy": "2023-06-04T09:58:38.170192Z",
     "iopub.status.idle": "2023-06-04T09:58:38.204868Z",
     "shell.execute_reply": "2023-06-04T09:58:38.203761Z",
     "shell.execute_reply.started": "2023-06-04T09:58:38.170615Z"
    }
   },
   "outputs": [
    {
     "data": {
      "text/html": [
       "<div>\n",
       "<style scoped>\n",
       "    .dataframe tbody tr th:only-of-type {\n",
       "        vertical-align: middle;\n",
       "    }\n",
       "\n",
       "    .dataframe tbody tr th {\n",
       "        vertical-align: top;\n",
       "    }\n",
       "\n",
       "    .dataframe thead th {\n",
       "        text-align: right;\n",
       "    }\n",
       "</style>\n",
       "<table border=\"1\" class=\"dataframe\">\n",
       "  <thead>\n",
       "    <tr style=\"text-align: right;\">\n",
       "      <th></th>\n",
       "      <th>age</th>\n",
       "      <th>sex</th>\n",
       "      <th>bmi</th>\n",
       "      <th>children</th>\n",
       "      <th>smoker</th>\n",
       "      <th>region</th>\n",
       "      <th>charges</th>\n",
       "    </tr>\n",
       "  </thead>\n",
       "  <tbody>\n",
       "    <tr>\n",
       "      <th>0</th>\n",
       "      <td>19</td>\n",
       "      <td>female</td>\n",
       "      <td>27.900</td>\n",
       "      <td>0</td>\n",
       "      <td>yes</td>\n",
       "      <td>southwest</td>\n",
       "      <td>16884.92400</td>\n",
       "    </tr>\n",
       "    <tr>\n",
       "      <th>1</th>\n",
       "      <td>18</td>\n",
       "      <td>male</td>\n",
       "      <td>33.770</td>\n",
       "      <td>1</td>\n",
       "      <td>no</td>\n",
       "      <td>southeast</td>\n",
       "      <td>1725.55230</td>\n",
       "    </tr>\n",
       "    <tr>\n",
       "      <th>2</th>\n",
       "      <td>28</td>\n",
       "      <td>male</td>\n",
       "      <td>33.000</td>\n",
       "      <td>3</td>\n",
       "      <td>no</td>\n",
       "      <td>southeast</td>\n",
       "      <td>4449.46200</td>\n",
       "    </tr>\n",
       "    <tr>\n",
       "      <th>3</th>\n",
       "      <td>33</td>\n",
       "      <td>male</td>\n",
       "      <td>22.705</td>\n",
       "      <td>0</td>\n",
       "      <td>no</td>\n",
       "      <td>northwest</td>\n",
       "      <td>21984.47061</td>\n",
       "    </tr>\n",
       "    <tr>\n",
       "      <th>4</th>\n",
       "      <td>32</td>\n",
       "      <td>male</td>\n",
       "      <td>28.880</td>\n",
       "      <td>0</td>\n",
       "      <td>no</td>\n",
       "      <td>northwest</td>\n",
       "      <td>3866.85520</td>\n",
       "    </tr>\n",
       "  </tbody>\n",
       "</table>\n",
       "</div>"
      ],
      "text/plain": [
       "   age     sex     bmi  children smoker     region      charges\n",
       "0   19  female  27.900         0    yes  southwest  16884.92400\n",
       "1   18    male  33.770         1     no  southeast   1725.55230\n",
       "2   28    male  33.000         3     no  southeast   4449.46200\n",
       "3   33    male  22.705         0     no  northwest  21984.47061\n",
       "4   32    male  28.880         0     no  northwest   3866.85520"
      ]
     },
     "execution_count": 2,
     "metadata": {},
     "output_type": "execute_result"
    }
   ],
   "source": [
    "df=pd.read_csv(\"insurance.csv\")\n",
    "df.head()"
   ]
  },
  {
   "cell_type": "code",
   "execution_count": 3,
   "metadata": {
    "execution": {
     "iopub.execute_input": "2023-06-04T09:58:38.207919Z",
     "iopub.status.busy": "2023-06-04T09:58:38.207186Z",
     "iopub.status.idle": "2023-06-04T09:58:38.238011Z",
     "shell.execute_reply": "2023-06-04T09:58:38.236704Z",
     "shell.execute_reply.started": "2023-06-04T09:58:38.207879Z"
    }
   },
   "outputs": [
    {
     "name": "stdout",
     "output_type": "stream",
     "text": [
      "<class 'pandas.core.frame.DataFrame'>\n",
      "RangeIndex: 1338 entries, 0 to 1337\n",
      "Data columns (total 7 columns):\n",
      " #   Column    Non-Null Count  Dtype  \n",
      "---  ------    --------------  -----  \n",
      " 0   age       1338 non-null   int64  \n",
      " 1   sex       1338 non-null   object \n",
      " 2   bmi       1338 non-null   float64\n",
      " 3   children  1338 non-null   int64  \n",
      " 4   smoker    1338 non-null   object \n",
      " 5   region    1338 non-null   object \n",
      " 6   charges   1338 non-null   float64\n",
      "dtypes: float64(2), int64(2), object(3)\n",
      "memory usage: 73.3+ KB\n"
     ]
    }
   ],
   "source": [
    "df.info()"
   ]
  },
  {
   "cell_type": "markdown",
   "metadata": {},
   "source": [
    "Let's continue exploration and turn to the target variable, i.e. the variable we are going to predict later (\"charges\"). We want to quickly get general understandig of how the charges vary under the influence of the other variables (features).\n",
    "\n",
    "In order to get this, we can aggregate numeric values of the \"charges\" into, let's say, 3 categories (\"low\" + \"medium\" + \"high\") and display the latters in a new \"charges_categ\" variable:"
   ]
  },
  {
   "cell_type": "code",
   "execution_count": 4,
   "metadata": {
    "execution": {
     "iopub.execute_input": "2023-06-04T09:58:38.23982Z",
     "iopub.status.busy": "2023-06-04T09:58:38.239459Z",
     "iopub.status.idle": "2023-06-04T09:58:38.252874Z",
     "shell.execute_reply": "2023-06-04T09:58:38.251527Z",
     "shell.execute_reply.started": "2023-06-04T09:58:38.239791Z"
    }
   },
   "outputs": [
    {
     "data": {
      "text/plain": [
       "count     1338.000000\n",
       "mean     13270.422265\n",
       "std      12110.011237\n",
       "min       1121.873900\n",
       "25%       4740.287150\n",
       "50%       9382.033000\n",
       "75%      16639.912515\n",
       "max      63770.428010\n",
       "Name: charges, dtype: float64"
      ]
     },
     "execution_count": 4,
     "metadata": {},
     "output_type": "execute_result"
    }
   ],
   "source": [
    "df.charges.describe()"
   ]
  },
  {
   "cell_type": "markdown",
   "metadata": {},
   "source": [
    "We see that \"charges\" values lie in the range 1121...63770. Thus, we create 3 levels this way:\n",
    "- \\[1121,22000\\] will be \"Low\"\n",
    "- (22000,43000] will be \"Medium\"\n",
    "- (43000,63770] will be \"High\""
   ]
  },
  {
   "cell_type": "code",
   "execution_count": 5,
   "metadata": {
    "execution": {
     "iopub.execute_input": "2023-06-04T09:58:38.257084Z",
     "iopub.status.busy": "2023-06-04T09:58:38.255985Z",
     "iopub.status.idle": "2023-06-04T09:58:38.2688Z",
     "shell.execute_reply": "2023-06-04T09:58:38.267295Z",
     "shell.execute_reply.started": "2023-06-04T09:58:38.25705Z"
    }
   },
   "outputs": [],
   "source": [
    "df[\"charges_categ\"]=np.nan # a new empty variable beforehand\n",
    "\n",
    "df.charges_categ[(df.charges<=22000)]=\"Low\"\n",
    "df.charges_categ[(22000<df.charges) & (df.charges<=43000)]=\"Medium\"\n",
    "df.charges_categ[(df.charges>43000)]=\"High\""
   ]
  },
  {
   "cell_type": "markdown",
   "metadata": {},
   "source": [
    "After filling the \"charges_categ\" we have to make sure that no \"null\" values are left in:"
   ]
  },
  {
   "cell_type": "code",
   "execution_count": 6,
   "metadata": {
    "execution": {
     "iopub.execute_input": "2023-06-04T09:58:38.271353Z",
     "iopub.status.busy": "2023-06-04T09:58:38.270885Z",
     "iopub.status.idle": "2023-06-04T09:58:38.286328Z",
     "shell.execute_reply": "2023-06-04T09:58:38.284875Z",
     "shell.execute_reply.started": "2023-06-04T09:58:38.271314Z"
    }
   },
   "outputs": [
    {
     "data": {
      "text/plain": [
       "0"
      ]
     },
     "execution_count": 6,
     "metadata": {},
     "output_type": "execute_result"
    }
   ],
   "source": [
    "df.charges_categ.isnull().sum() "
   ]
  },
  {
   "cell_type": "markdown",
   "metadata": {},
   "source": [
    "#### Explore Numerical Features\n",
    "The most efficient way to briefly explore variables is visualization. Using \"pairplot\", we get understanding of not only distribution of each variable, but most important, of their intraction."
   ]
  },
  {
   "cell_type": "code",
   "execution_count": 7,
   "metadata": {
    "execution": {
     "iopub.execute_input": "2023-06-04T09:58:38.28865Z",
     "iopub.status.busy": "2023-06-04T09:58:38.288179Z",
     "iopub.status.idle": "2023-06-04T09:58:43.480179Z",
     "shell.execute_reply": "2023-06-04T09:58:43.478984Z",
     "shell.execute_reply.started": "2023-06-04T09:58:38.28861Z"
    }
   },
   "outputs": [
    {
     "data": {
      "text/plain": [
       "<seaborn.axisgrid.PairGrid at 0x7fec880371f0>"
      ]
     },
     "execution_count": 7,
     "metadata": {},
     "output_type": "execute_result"
    },
    {
     "data": {
      "image/png": "[encoded data removed]",
      "text/plain": [
       "<Figure size 620.75x540 with 12 Axes>"
      ]
     },
     "metadata": {
      "needs_background": "light"
     },
     "output_type": "display_data"
    }
   ],
   "source": [
    "sns.pairplot(data=df,\n",
    "            vars=[\"age\",\"bmi\",\"children\"],\n",
    "             hue=\"charges_categ\"\n",
    "            )"
   ]
  },
  {
   "cell_type": "markdown",
   "metadata": {},
   "source": [
    "Note, how \"charges_categ\" helps splits the whole sample into 3 parts. Based on the colours, we can draw following conclusions on the \"charges\" behavior:\n",
    "1. Most of the charges are less than 22000 (\"Low\" group).\n",
    "2. Health insurance is demanded by clients of any age from 18 to 65 almost equally, but most expensive are for clients of 40+ age.\n",
    "3. Most of the clients do not have children but if do, then usually up to 3 children.\n",
    "4. Elderly clients with high \"bmi\" have high charges."
   ]
  },
  {
   "cell_type": "markdown",
   "metadata": {},
   "source": [
    "#### Explore Categorical Features "
   ]
  },
  {
   "cell_type": "code",
   "execution_count": 8,
   "metadata": {
    "execution": {
     "iopub.execute_input": "2023-06-04T09:58:43.482741Z",
     "iopub.status.busy": "2023-06-04T09:58:43.481679Z",
     "iopub.status.idle": "2023-06-04T09:58:44.190563Z",
     "shell.execute_reply": "2023-06-04T09:58:44.1893Z",
     "shell.execute_reply.started": "2023-06-04T09:58:43.482708Z"
    }
   },
   "outputs": [
    {
     "data": {
      "image/png": "[encoded data removed]",
      "text/plain": [
       "<Figure size 1080x360 with 3 Axes>"
      ]
     },
     "metadata": {
      "needs_background": "light"
     },
     "output_type": "display_data"
    }
   ],
   "source": [
    "cat_vars=[\"sex\",\"smoker\",\"region\"]\n",
    "\n",
    "fig,axs=plt.subplots(ncols=3, figsize=(15,5))\n",
    "\n",
    "for idx,i in enumerate(cat_vars):\n",
    "    sns.countplot(x=df[i],\n",
    "                 hue=df.charges_categ,\n",
    "                 ax=axs[idx]\n",
    "                 )"
   ]
  },
  {
   "cell_type": "markdown",
   "metadata": {},
   "source": [
    "What we see from the barplots:\n",
    "1. There is equal number of men and women in the dataset; men tend to pay more than women.\n",
    "2. Non-smokers buy more often than smokers, but usually pay less.\n",
    "3. People from all the regions have more low charges, but clients from the \"southeast\" region pay slightly higher price than others."
   ]
  },
  {
   "cell_type": "markdown",
   "metadata": {},
   "source": [
    "### Feature engineering\n",
    "EDA (Exploratory Data Analysis) from above was supposed to give us general view on the \"feature/target variable\" dependencies. That is why we created the \"charges_categ\" variable and that was where we used it.\n",
    "\n",
    "In this section, we are going to prepare the data for modelling. First of all, split the whole sample into **train** and **test** sets"
   ]
  },
  {
   "cell_type": "code",
   "execution_count": 9,
   "metadata": {
    "execution": {
     "iopub.execute_input": "2023-06-04T09:58:44.192344Z",
     "iopub.status.busy": "2023-06-04T09:58:44.191985Z",
     "iopub.status.idle": "2023-06-04T09:58:44.20662Z",
     "shell.execute_reply": "2023-06-04T09:58:44.205438Z",
     "shell.execute_reply.started": "2023-06-04T09:58:44.192316Z"
    },
    "scrolled": true
   },
   "outputs": [],
   "source": [
    "X=df.drop(columns=[\"charges\",\"charges_categ\"])\n",
    "y=df.charges\n",
    "\n",
    "train_x,test_x,train_y,test_y=train_test_split(X,y,train_size=0.7)\n",
    "\n",
    "train_x=train_x.reset_index(drop=True) # all the variables but \"charges\"\n",
    "test_x=test_x.reset_index(drop=True) # all the variables but \"charges\"\n",
    "\n",
    "train_y=train_y.reset_index(drop=True) # only \"charges\"\n",
    "test_y=test_y.reset_index(drop=True) # only \"charges\""
   ]
  },
  {
   "cell_type": "markdown",
   "metadata": {},
   "source": [
    "To build a predictive model, we will use train_x and train_y\n",
    "\n",
    "To assess the created model, test_x and test_y will be applied.\n",
    "\n",
    "Feature engineering implies selection and *transformation* of the features, so that they could be embedded into regressors (in our case). \n",
    "\n",
    "Obviously, numerical and categorical variables need different approaches. So let's separate \"train_x\" into 2 sub-dataframes:"
   ]
  },
  {
   "cell_type": "code",
   "execution_count": 10,
   "metadata": {
    "execution": {
     "iopub.execute_input": "2023-06-04T09:58:44.212629Z",
     "iopub.status.busy": "2023-06-04T09:58:44.21147Z",
     "iopub.status.idle": "2023-06-04T09:58:44.221581Z",
     "shell.execute_reply": "2023-06-04T09:58:44.220509Z",
     "shell.execute_reply.started": "2023-06-04T09:58:44.212589Z"
    }
   },
   "outputs": [],
   "source": [
    "num_vars=train_x.select_dtypes(include=\"number\")\n",
    "obj_vars=train_x.select_dtypes(include=\"object\")"
   ]
  },
  {
   "cell_type": "markdown",
   "metadata": {},
   "source": [
    "#### Numerical Features Processing \n",
    "Basically, all we need is to pick numerical features that have significant impact on the target variable, i.e. strong correlation with \"charges\".\n",
    "\n",
    "Before building a correlation matrix, we are going to **scale** the numerical features:"
   ]
  },
  {
   "cell_type": "code",
   "execution_count": 11,
   "metadata": {
    "execution": {
     "iopub.execute_input": "2023-06-04T09:58:44.223597Z",
     "iopub.status.busy": "2023-06-04T09:58:44.223259Z",
     "iopub.status.idle": "2023-06-04T09:58:44.237477Z",
     "shell.execute_reply": "2023-06-04T09:58:44.236427Z",
     "shell.execute_reply.started": "2023-06-04T09:58:44.223569Z"
    }
   },
   "outputs": [],
   "source": [
    "scaled_nums=RobustScaler().fit_transform(num_vars) \n",
    "\n",
    "# Robust Scaler returns an array, thus we have to convert it back to a \"data frame\":\n",
    "scaled_nums=pd.DataFrame(data=scaled_nums,\n",
    "                        columns=num_vars.columns\n",
    "                        )"
   ]
  },
  {
   "cell_type": "markdown",
   "metadata": {},
   "source": [
    "Now we can plot a correlation matrix:"
   ]
  },
  {
   "cell_type": "code",
   "execution_count": 12,
   "metadata": {
    "execution": {
     "iopub.execute_input": "2023-06-04T09:58:44.239601Z",
     "iopub.status.busy": "2023-06-04T09:58:44.239295Z",
     "iopub.status.idle": "2023-06-04T09:58:44.509408Z",
     "shell.execute_reply": "2023-06-04T09:58:44.508312Z",
     "shell.execute_reply.started": "2023-06-04T09:58:44.239575Z"
    }
   },
   "outputs": [
    {
     "data": {
      "text/plain": [
       "<AxesSubplot:>"
      ]
     },
     "execution_count": 12,
     "metadata": {},
     "output_type": "execute_result"
    },
    {
     "data": {
      "image/png": "[encoded data removed]",
      "text/plain": [
       "<Figure size 432x288 with 2 Axes>"
      ]
     },
     "metadata": {
      "needs_background": "light"
     },
     "output_type": "display_data"
    }
   ],
   "source": [
    "# Attach \"charges\" variable to the \"scaled_nums\":\n",
    "# Note, that a target variable does not have to be scaled like features!\n",
    "corr_df=pd.concat([scaled_nums,train_y],axis=1)\n",
    "\n",
    "corr_m=corr_df.corr() \n",
    "# 4 variables (\"age\",\"bmi\",\"children\" and \"charges\") give us 4x4 matrix:\n",
    "sns.heatmap(corr_m,cmap=\"coolwarm_r\",vmax=0.5 ,  annot = True)"
   ]
  },
  {
   "cell_type": "markdown",
   "metadata": {},
   "source": [
    "What we can see is that **\"age\" and \"bmi\" features have weak correlation (0.13)** with \"charges\", whereas **number of children has almost no impact (0.061)** on the price.\n",
    "\n",
    "This means that we can remove \"children\" from the list of the features:"
   ]
  },
  {
   "cell_type": "code",
   "execution_count": 13,
   "metadata": {
    "execution": {
     "iopub.execute_input": "2023-06-04T09:58:44.511311Z",
     "iopub.status.busy": "2023-06-04T09:58:44.510942Z",
     "iopub.status.idle": "2023-06-04T09:58:44.517466Z",
     "shell.execute_reply": "2023-06-04T09:58:44.516188Z",
     "shell.execute_reply.started": "2023-06-04T09:58:44.51128Z"
    }
   },
   "outputs": [],
   "source": [
    "scaled_nums=scaled_nums.drop(columns=\"children\")"
   ]
  },
  {
   "cell_type": "markdown",
   "metadata": {},
   "source": [
    "#### Categorical Features Proceeding  \n",
    "\n",
    "There are:\n",
    "   - ‘sex’: \n",
    "        - male\n",
    "        - female\n",
    "   - ‘smoker’: \n",
    "        - yes\n",
    "        - no\n",
    "   - ‘region’: \n",
    "        - northwest\n",
    "        - southeast\n",
    "        - southwest\n",
    "        - northeast\n",
    "        \n",
    "Machine learning models need their input variables to be numeric. Therefore, the features above must be encoded (**one-hot encoding** is a commonly accepted method, so we use it):"
   ]
  },
  {
   "cell_type": "code",
   "execution_count": 14,
   "metadata": {
    "execution": {
     "iopub.execute_input": "2023-06-04T09:58:44.520029Z",
     "iopub.status.busy": "2023-06-04T09:58:44.519316Z",
     "iopub.status.idle": "2023-06-04T09:58:44.559544Z",
     "shell.execute_reply": "2023-06-04T09:58:44.558477Z",
     "shell.execute_reply.started": "2023-06-04T09:58:44.520001Z"
    }
   },
   "outputs": [
    {
     "data": {
      "text/html": [
       "<div>\n",
       "<style scoped>\n",
       "    .dataframe tbody tr th:only-of-type {\n",
       "        vertical-align: middle;\n",
       "    }\n",
       "\n",
       "    .dataframe tbody tr th {\n",
       "        vertical-align: top;\n",
       "    }\n",
       "\n",
       "    .dataframe thead th {\n",
       "        text-align: right;\n",
       "    }\n",
       "</style>\n",
       "<table border=\"1\" class=\"dataframe\">\n",
       "  <thead>\n",
       "    <tr style=\"text-align: right;\">\n",
       "      <th></th>\n",
       "      <th>sex_female</th>\n",
       "      <th>sex_male</th>\n",
       "      <th>smoker_no</th>\n",
       "      <th>smoker_yes</th>\n",
       "      <th>region_northeast</th>\n",
       "      <th>region_northwest</th>\n",
       "      <th>region_southeast</th>\n",
       "      <th>region_southwest</th>\n",
       "    </tr>\n",
       "  </thead>\n",
       "  <tbody>\n",
       "    <tr>\n",
       "      <th>0</th>\n",
       "      <td>0.0</td>\n",
       "      <td>1.0</td>\n",
       "      <td>0.0</td>\n",
       "      <td>1.0</td>\n",
       "      <td>0.0</td>\n",
       "      <td>0.0</td>\n",
       "      <td>0.0</td>\n",
       "      <td>1.0</td>\n",
       "    </tr>\n",
       "    <tr>\n",
       "      <th>1</th>\n",
       "      <td>1.0</td>\n",
       "      <td>0.0</td>\n",
       "      <td>1.0</td>\n",
       "      <td>0.0</td>\n",
       "      <td>0.0</td>\n",
       "      <td>0.0</td>\n",
       "      <td>1.0</td>\n",
       "      <td>0.0</td>\n",
       "    </tr>\n",
       "    <tr>\n",
       "      <th>2</th>\n",
       "      <td>1.0</td>\n",
       "      <td>0.0</td>\n",
       "      <td>1.0</td>\n",
       "      <td>0.0</td>\n",
       "      <td>0.0</td>\n",
       "      <td>0.0</td>\n",
       "      <td>1.0</td>\n",
       "      <td>0.0</td>\n",
       "    </tr>\n",
       "    <tr>\n",
       "      <th>3</th>\n",
       "      <td>0.0</td>\n",
       "      <td>1.0</td>\n",
       "      <td>1.0</td>\n",
       "      <td>0.0</td>\n",
       "      <td>0.0</td>\n",
       "      <td>0.0</td>\n",
       "      <td>1.0</td>\n",
       "      <td>0.0</td>\n",
       "    </tr>\n",
       "    <tr>\n",
       "      <th>4</th>\n",
       "      <td>1.0</td>\n",
       "      <td>0.0</td>\n",
       "      <td>0.0</td>\n",
       "      <td>1.0</td>\n",
       "      <td>0.0</td>\n",
       "      <td>0.0</td>\n",
       "      <td>0.0</td>\n",
       "      <td>1.0</td>\n",
       "    </tr>\n",
       "    <tr>\n",
       "      <th>...</th>\n",
       "      <td>...</td>\n",
       "      <td>...</td>\n",
       "      <td>...</td>\n",
       "      <td>...</td>\n",
       "      <td>...</td>\n",
       "      <td>...</td>\n",
       "      <td>...</td>\n",
       "      <td>...</td>\n",
       "    </tr>\n",
       "    <tr>\n",
       "      <th>931</th>\n",
       "      <td>1.0</td>\n",
       "      <td>0.0</td>\n",
       "      <td>1.0</td>\n",
       "      <td>0.0</td>\n",
       "      <td>1.0</td>\n",
       "      <td>0.0</td>\n",
       "      <td>0.0</td>\n",
       "      <td>0.0</td>\n",
       "    </tr>\n",
       "    <tr>\n",
       "      <th>932</th>\n",
       "      <td>0.0</td>\n",
       "      <td>1.0</td>\n",
       "      <td>1.0</td>\n",
       "      <td>0.0</td>\n",
       "      <td>1.0</td>\n",
       "      <td>0.0</td>\n",
       "      <td>0.0</td>\n",
       "      <td>0.0</td>\n",
       "    </tr>\n",
       "    <tr>\n",
       "      <th>933</th>\n",
       "      <td>0.0</td>\n",
       "      <td>1.0</td>\n",
       "      <td>1.0</td>\n",
       "      <td>0.0</td>\n",
       "      <td>0.0</td>\n",
       "      <td>1.0</td>\n",
       "      <td>0.0</td>\n",
       "      <td>0.0</td>\n",
       "    </tr>\n",
       "    <tr>\n",
       "      <th>934</th>\n",
       "      <td>0.0</td>\n",
       "      <td>1.0</td>\n",
       "      <td>1.0</td>\n",
       "      <td>0.0</td>\n",
       "      <td>1.0</td>\n",
       "      <td>0.0</td>\n",
       "      <td>0.0</td>\n",
       "      <td>0.0</td>\n",
       "    </tr>\n",
       "    <tr>\n",
       "      <th>935</th>\n",
       "      <td>0.0</td>\n",
       "      <td>1.0</td>\n",
       "      <td>1.0</td>\n",
       "      <td>0.0</td>\n",
       "      <td>0.0</td>\n",
       "      <td>0.0</td>\n",
       "      <td>1.0</td>\n",
       "      <td>0.0</td>\n",
       "    </tr>\n",
       "  </tbody>\n",
       "</table>\n",
       "<p>936 rows × 8 columns</p>\n",
       "</div>"
      ],
      "text/plain": [
       "     sex_female  sex_male  smoker_no  smoker_yes  region_northeast  \\\n",
       "0           0.0       1.0        0.0         1.0               0.0   \n",
       "1           1.0       0.0        1.0         0.0               0.0   \n",
       "2           1.0       0.0        1.0         0.0               0.0   \n",
       "3           0.0       1.0        1.0         0.0               0.0   \n",
       "4           1.0       0.0        0.0         1.0               0.0   \n",
       "..          ...       ...        ...         ...               ...   \n",
       "931         1.0       0.0        1.0         0.0               1.0   \n",
       "932         0.0       1.0        1.0         0.0               1.0   \n",
       "933         0.0       1.0        1.0         0.0               0.0   \n",
       "934         0.0       1.0        1.0         0.0               1.0   \n",
       "935         0.0       1.0        1.0         0.0               0.0   \n",
       "\n",
       "     region_northwest  region_southeast  region_southwest  \n",
       "0                 0.0               0.0               1.0  \n",
       "1                 0.0               1.0               0.0  \n",
       "2                 0.0               1.0               0.0  \n",
       "3                 0.0               1.0               0.0  \n",
       "4                 0.0               0.0               1.0  \n",
       "..                ...               ...               ...  \n",
       "931               0.0               0.0               0.0  \n",
       "932               0.0               0.0               0.0  \n",
       "933               1.0               0.0               0.0  \n",
       "934               0.0               0.0               0.0  \n",
       "935               0.0               1.0               0.0  \n",
       "\n",
       "[936 rows x 8 columns]"
      ]
     },
     "execution_count": 14,
     "metadata": {},
     "output_type": "execute_result"
    }
   ],
   "source": [
    "# create an empty Encoder:\n",
    "ohe=OneHotEncoder(sparse=False)\n",
    "\n",
    "# fit the data to the Encoder and get a new one-hot-encoded array \"ohe_vars\":\n",
    "ohe_vars=ohe.fit_transform(obj_vars)\n",
    "\n",
    "# save the newly created variables' names (below you will see why):\n",
    "ohe_columns=ohe.get_feature_names_out()\n",
    "\n",
    "# we are not excited that \"ohe_vars\" is an array, so convert it into a dataframe:\n",
    "ohe_vars=pd.DataFrame(ohe_vars,columns=ohe_columns)\n",
    "ohe_vars"
   ]
  },
  {
   "cell_type": "markdown",
   "metadata": {},
   "source": [
    "*Important notice:*\n",
    "\n",
    "\"sex\" and \"smoker\" variables only had 2 classes each (\"male/female\" and \"yes/no\" respectively). After One-hot Encoding, a 2-classes variable always becomes 2 variables with self-exclusive values: E.g., when \"sex_male\" value is \"1\", then \"sex_female\" is always \"0\" and vice-versa.\n",
    "\n",
    "What does this mean in the context of modelling?\n",
    "\n",
    "This means that  \"sex_male\" and \"sex_female\" duplicate each other in terms of dependencies between \"sex\" feature and \"charges\" target variable; consequently, one of them can be removed without loss of accuracy of our potential estimator.\n",
    "\n",
    "Here I chose to get rid of \"sex_male\" and \"smoker_no\":"
   ]
  },
  {
   "cell_type": "code",
   "execution_count": 15,
   "metadata": {
    "execution": {
     "iopub.execute_input": "2023-06-04T09:58:44.561449Z",
     "iopub.status.busy": "2023-06-04T09:58:44.560982Z",
     "iopub.status.idle": "2023-06-04T09:58:44.586478Z",
     "shell.execute_reply": "2023-06-04T09:58:44.5851Z",
     "shell.execute_reply.started": "2023-06-04T09:58:44.561415Z"
    }
   },
   "outputs": [
    {
     "data": {
      "text/html": [
       "<div>\n",
       "<style scoped>\n",
       "    .dataframe tbody tr th:only-of-type {\n",
       "        vertical-align: middle;\n",
       "    }\n",
       "\n",
       "    .dataframe tbody tr th {\n",
       "        vertical-align: top;\n",
       "    }\n",
       "\n",
       "    .dataframe thead th {\n",
       "        text-align: right;\n",
       "    }\n",
       "</style>\n",
       "<table border=\"1\" class=\"dataframe\">\n",
       "  <thead>\n",
       "    <tr style=\"text-align: right;\">\n",
       "      <th></th>\n",
       "      <th>sex_female</th>\n",
       "      <th>smoker_yes</th>\n",
       "      <th>region_northeast</th>\n",
       "      <th>region_northwest</th>\n",
       "      <th>region_southeast</th>\n",
       "      <th>region_southwest</th>\n",
       "    </tr>\n",
       "  </thead>\n",
       "  <tbody>\n",
       "    <tr>\n",
       "      <th>0</th>\n",
       "      <td>0.0</td>\n",
       "      <td>1.0</td>\n",
       "      <td>0.0</td>\n",
       "      <td>0.0</td>\n",
       "      <td>0.0</td>\n",
       "      <td>1.0</td>\n",
       "    </tr>\n",
       "    <tr>\n",
       "      <th>1</th>\n",
       "      <td>1.0</td>\n",
       "      <td>0.0</td>\n",
       "      <td>0.0</td>\n",
       "      <td>0.0</td>\n",
       "      <td>1.0</td>\n",
       "      <td>0.0</td>\n",
       "    </tr>\n",
       "    <tr>\n",
       "      <th>2</th>\n",
       "      <td>1.0</td>\n",
       "      <td>0.0</td>\n",
       "      <td>0.0</td>\n",
       "      <td>0.0</td>\n",
       "      <td>1.0</td>\n",
       "      <td>0.0</td>\n",
       "    </tr>\n",
       "    <tr>\n",
       "      <th>3</th>\n",
       "      <td>0.0</td>\n",
       "      <td>0.0</td>\n",
       "      <td>0.0</td>\n",
       "      <td>0.0</td>\n",
       "      <td>1.0</td>\n",
       "      <td>0.0</td>\n",
       "    </tr>\n",
       "    <tr>\n",
       "      <th>4</th>\n",
       "      <td>1.0</td>\n",
       "      <td>1.0</td>\n",
       "      <td>0.0</td>\n",
       "      <td>0.0</td>\n",
       "      <td>0.0</td>\n",
       "      <td>1.0</td>\n",
       "    </tr>\n",
       "    <tr>\n",
       "      <th>...</th>\n",
       "      <td>...</td>\n",
       "      <td>...</td>\n",
       "      <td>...</td>\n",
       "      <td>...</td>\n",
       "      <td>...</td>\n",
       "      <td>...</td>\n",
       "    </tr>\n",
       "    <tr>\n",
       "      <th>931</th>\n",
       "      <td>1.0</td>\n",
       "      <td>0.0</td>\n",
       "      <td>1.0</td>\n",
       "      <td>0.0</td>\n",
       "      <td>0.0</td>\n",
       "      <td>0.0</td>\n",
       "    </tr>\n",
       "    <tr>\n",
       "      <th>932</th>\n",
       "      <td>0.0</td>\n",
       "      <td>0.0</td>\n",
       "      <td>1.0</td>\n",
       "      <td>0.0</td>\n",
       "      <td>0.0</td>\n",
       "      <td>0.0</td>\n",
       "    </tr>\n",
       "    <tr>\n",
       "      <th>933</th>\n",
       "      <td>0.0</td>\n",
       "      <td>0.0</td>\n",
       "      <td>0.0</td>\n",
       "      <td>1.0</td>\n",
       "      <td>0.0</td>\n",
       "      <td>0.0</td>\n",
       "    </tr>\n",
       "    <tr>\n",
       "      <th>934</th>\n",
       "      <td>0.0</td>\n",
       "      <td>0.0</td>\n",
       "      <td>1.0</td>\n",
       "      <td>0.0</td>\n",
       "      <td>0.0</td>\n",
       "      <td>0.0</td>\n",
       "    </tr>\n",
       "    <tr>\n",
       "      <th>935</th>\n",
       "      <td>0.0</td>\n",
       "      <td>0.0</td>\n",
       "      <td>0.0</td>\n",
       "      <td>0.0</td>\n",
       "      <td>1.0</td>\n",
       "      <td>0.0</td>\n",
       "    </tr>\n",
       "  </tbody>\n",
       "</table>\n",
       "<p>936 rows × 6 columns</p>\n",
       "</div>"
      ],
      "text/plain": [
       "     sex_female  smoker_yes  region_northeast  region_northwest  \\\n",
       "0           0.0         1.0               0.0               0.0   \n",
       "1           1.0         0.0               0.0               0.0   \n",
       "2           1.0         0.0               0.0               0.0   \n",
       "3           0.0         0.0               0.0               0.0   \n",
       "4           1.0         1.0               0.0               0.0   \n",
       "..          ...         ...               ...               ...   \n",
       "931         1.0         0.0               1.0               0.0   \n",
       "932         0.0         0.0               1.0               0.0   \n",
       "933         0.0         0.0               0.0               1.0   \n",
       "934         0.0         0.0               1.0               0.0   \n",
       "935         0.0         0.0               0.0               0.0   \n",
       "\n",
       "     region_southeast  region_southwest  \n",
       "0                 0.0               1.0  \n",
       "1                 1.0               0.0  \n",
       "2                 1.0               0.0  \n",
       "3                 1.0               0.0  \n",
       "4                 0.0               1.0  \n",
       "..                ...               ...  \n",
       "931               0.0               0.0  \n",
       "932               0.0               0.0  \n",
       "933               0.0               0.0  \n",
       "934               0.0               0.0  \n",
       "935               1.0               0.0  \n",
       "\n",
       "[936 rows x 6 columns]"
      ]
     },
     "execution_count": 15,
     "metadata": {},
     "output_type": "execute_result"
    }
   ],
   "source": [
    "ohe_vars=ohe_vars.drop(columns=[\"sex_male\",\"smoker_no\"])\n",
    "ohe_vars"
   ]
  },
  {
   "cell_type": "markdown",
   "metadata": {},
   "source": [
    "Similarly with numerical features, we are going to find most important categorical ones. How to do it?\n",
    "\n",
    "Well, the answer is defined by two restrictions:\n",
    "- one-hot encoded categorical features cannot be displayed in a correlation matrix;\n",
    "- the target variable \"charges\" is continuous one, not binominal (consequently, \"X-squared\" coefficient cannot be applied).\n",
    "\n",
    "Therefore, I chose to apply \"permutation importance\" method (using *Random Forest Regressor*) for selection of important categorical features:\n"
   ]
  },
  {
   "cell_type": "code",
   "execution_count": 16,
   "metadata": {
    "execution": {
     "iopub.execute_input": "2023-06-04T09:58:44.588121Z",
     "iopub.status.busy": "2023-06-04T09:58:44.587797Z",
     "iopub.status.idle": "2023-06-04T09:58:45.667269Z",
     "shell.execute_reply": "2023-06-04T09:58:45.666143Z",
     "shell.execute_reply.started": "2023-06-04T09:58:44.588093Z"
    }
   },
   "outputs": [
    {
     "data": {
      "text/plain": [
       "<seaborn.axisgrid.FacetGrid at 0x7fecb20d78e0>"
      ]
     },
     "execution_count": 16,
     "metadata": {},
     "output_type": "execute_result"
    },
    {
     "data": {
      "image/png": "[encoded data removed]",
      "text/plain": [
       "<Figure size 792x360 with 1 Axes>"
      ]
     },
     "metadata": {
      "needs_background": "light"
     },
     "output_type": "display_data"
    }
   ],
   "source": [
    "# create an empty \"clf\" estimator \n",
    "# and fit the one-hot-encoded categorical features + target variable:\n",
    "clf=RandomForestRegressor().fit(ohe_vars, train_y)\n",
    "\n",
    "# I used the \"neg_mean_squared_error\" as an indicator of importance:\n",
    "result=permutation_importance(clf,\n",
    "                             ohe_vars, train_y,\n",
    "                             n_repeats=5,\n",
    "                             scoring=\"neg_mean_squared_error\"\n",
    "                             )\n",
    "\n",
    "# get the MEAN value of each feature importance over 5 repeats:\n",
    "mean_feat_imp=result.importances_mean\n",
    "\n",
    "# and finally, visualize mean values of importance for each of the one-hot-encoded variables:\n",
    "sns. relplot(x=ohe_vars.columns,\n",
    "            y=mean_feat_imp,\n",
    "            height=5, aspect=2.2\n",
    "            )"
   ]
  },
  {
   "cell_type": "markdown",
   "metadata": {},
   "source": [
    "We can see from the graph above, that only \"smoking\" plays important role in the charges. Obviously, we are going to only pich \"smoker_yes\" feature to the modelling.\n",
    "\n",
    "Eventually, two numerical and one categorical features will be use in modelling:"
   ]
  },
  {
   "cell_type": "code",
   "execution_count": 17,
   "metadata": {
    "execution": {
     "iopub.execute_input": "2023-06-04T09:58:45.670011Z",
     "iopub.status.busy": "2023-06-04T09:58:45.669181Z",
     "iopub.status.idle": "2023-06-04T09:58:45.684533Z",
     "shell.execute_reply": "2023-06-04T09:58:45.683393Z",
     "shell.execute_reply.started": "2023-06-04T09:58:45.669971Z"
    }
   },
   "outputs": [
    {
     "data": {
      "text/html": [
       "<div>\n",
       "<style scoped>\n",
       "    .dataframe tbody tr th:only-of-type {\n",
       "        vertical-align: middle;\n",
       "    }\n",
       "\n",
       "    .dataframe tbody tr th {\n",
       "        vertical-align: top;\n",
       "    }\n",
       "\n",
       "    .dataframe thead th {\n",
       "        text-align: right;\n",
       "    }\n",
       "</style>\n",
       "<table border=\"1\" class=\"dataframe\">\n",
       "  <thead>\n",
       "    <tr style=\"text-align: right;\">\n",
       "      <th></th>\n",
       "      <th>age</th>\n",
       "      <th>bmi</th>\n",
       "      <th>smoker_yes</th>\n",
       "    </tr>\n",
       "  </thead>\n",
       "  <tbody>\n",
       "    <tr>\n",
       "      <th>0</th>\n",
       "      <td>0.18</td>\n",
       "      <td>-0.022167</td>\n",
       "      <td>1.0</td>\n",
       "    </tr>\n",
       "    <tr>\n",
       "      <th>1</th>\n",
       "      <td>-0.86</td>\n",
       "      <td>1.081281</td>\n",
       "      <td>0.0</td>\n",
       "    </tr>\n",
       "    <tr>\n",
       "      <th>2</th>\n",
       "      <td>0.54</td>\n",
       "      <td>1.135468</td>\n",
       "      <td>0.0</td>\n",
       "    </tr>\n",
       "    <tr>\n",
       "      <th>3</th>\n",
       "      <td>0.50</td>\n",
       "      <td>0.458128</td>\n",
       "      <td>0.0</td>\n",
       "    </tr>\n",
       "    <tr>\n",
       "      <th>4</th>\n",
       "      <td>-0.82</td>\n",
       "      <td>-0.305419</td>\n",
       "      <td>1.0</td>\n",
       "    </tr>\n",
       "  </tbody>\n",
       "</table>\n",
       "</div>"
      ],
      "text/plain": [
       "    age       bmi  smoker_yes\n",
       "0  0.18 -0.022167         1.0\n",
       "1 -0.86  1.081281         0.0\n",
       "2  0.54  1.135468         0.0\n",
       "3  0.50  0.458128         0.0\n",
       "4 -0.82 -0.305419         1.0"
      ]
     },
     "execution_count": 17,
     "metadata": {},
     "output_type": "execute_result"
    }
   ],
   "source": [
    "final_x=pd.concat([scaled_nums,ohe_vars.smoker_yes],axis=1)\n",
    "final_x.head()"
   ]
  },
  {
   "cell_type": "markdown",
   "metadata": {},
   "source": [
    "#### Remove Outliers "
   ]
  },
  {
   "cell_type": "code",
   "execution_count": 18,
   "metadata": {
    "execution": {
     "iopub.execute_input": "2023-06-04T09:58:45.686477Z",
     "iopub.status.busy": "2023-06-04T09:58:45.686116Z",
     "iopub.status.idle": "2023-06-04T09:58:46.012888Z",
     "shell.execute_reply": "2023-06-04T09:58:46.01204Z",
     "shell.execute_reply.started": "2023-06-04T09:58:45.686449Z"
    }
   },
   "outputs": [
    {
     "data": {
      "text/plain": [
       "<AxesSubplot:ylabel='bmi'>"
      ]
     },
     "execution_count": 18,
     "metadata": {},
     "output_type": "execute_result"
    },
    {
     "data": {
      "image/png": "[encoded data removed]",
      "text/plain": [
       "<Figure size 720x504 with 2 Axes>"
      ]
     },
     "metadata": {
      "needs_background": "light"
     },
     "output_type": "display_data"
    }
   ],
   "source": [
    "fig,axs=plt.subplots(ncols=2,figsize=(10,7))\n",
    "sns.boxplot(y=final_x.age,ax=axs[0])\n",
    "sns.boxplot(y=final_x.bmi,ax=axs[1])"
   ]
  },
  {
   "cell_type": "markdown",
   "metadata": {},
   "source": [
    "As the boxplots show, only \"bmi\" variable has outliers. So, check if we need to remove outliers. It depends on what share of observations they represent."
   ]
  },
  {
   "cell_type": "code",
   "execution_count": 20,
   "metadata": {
    "execution": {
     "iopub.execute_input": "2023-06-04T09:58:46.015193Z",
     "iopub.status.busy": "2023-06-04T09:58:46.014192Z",
     "iopub.status.idle": "2023-06-04T09:58:46.022267Z",
     "shell.execute_reply": "2023-06-04T09:58:46.021462Z",
     "shell.execute_reply.started": "2023-06-04T09:58:46.015161Z"
    }
   },
   "outputs": [
    {
     "data": {
      "text/plain": [
       "936"
      ]
     },
     "execution_count": 20,
     "metadata": {},
     "output_type": "execute_result"
    }
   ],
   "source": [
    "final_x.bmi.count()"
   ]
  },
  {
   "cell_type": "code",
   "execution_count": 21,
   "metadata": {},
   "outputs": [
    {
     "data": {
      "text/plain": [
       "8"
      ]
     },
     "execution_count": 21,
     "metadata": {},
     "output_type": "execute_result"
    }
   ],
   "source": [
    "final_x.bmi[final_x.bmi>2].count() "
   ]
  },
  {
   "cell_type": "markdown",
   "metadata": {},
   "source": [
    "As we see, 8 obs. out 936 are outliers. We can remove them all:"
   ]
  },
  {
   "cell_type": "code",
   "execution_count": 22,
   "metadata": {
    "execution": {
     "iopub.execute_input": "2023-06-04T09:58:46.024439Z",
     "iopub.status.busy": "2023-06-04T09:58:46.023467Z",
     "iopub.status.idle": "2023-06-04T09:58:46.034841Z",
     "shell.execute_reply": "2023-06-04T09:58:46.033778Z",
     "shell.execute_reply.started": "2023-06-04T09:58:46.024409Z"
    }
   },
   "outputs": [],
   "source": [
    "# remove from \"final_x\" rows which correspond outliers in \"bmi\" column.\n",
    "\n",
    "\n",
    "idxs=final_x.bmi[final_x.bmi>2].index\n",
    "\n",
    "final_x=final_x.drop(index=idxs).reset_index(drop=True)\n",
    "\n",
    "# do the same for the target variable \"train_y\":\n",
    "train_y=train_y.drop(index=idxs).reset_index(drop=True)"
   ]
  },
  {
   "cell_type": "code",
   "execution_count": 23,
   "metadata": {
    "execution": {
     "iopub.execute_input": "2023-06-04T09:58:46.036859Z",
     "iopub.status.busy": "2023-06-04T09:58:46.036422Z",
     "iopub.status.idle": "2023-06-04T09:58:46.046474Z",
     "shell.execute_reply": "2023-06-04T09:58:46.045424Z",
     "shell.execute_reply.started": "2023-06-04T09:58:46.036822Z"
    }
   },
   "outputs": [
    {
     "data": {
      "text/plain": [
       "(928, 3)"
      ]
     },
     "execution_count": 23,
     "metadata": {},
     "output_type": "execute_result"
    }
   ],
   "source": [
    "final_x.shape"
   ]
  },
  {
   "cell_type": "code",
   "execution_count": 24,
   "metadata": {
    "execution": {
     "iopub.execute_input": "2023-06-04T09:58:46.052707Z",
     "iopub.status.busy": "2023-06-04T09:58:46.052343Z",
     "iopub.status.idle": "2023-06-04T09:58:46.059373Z",
     "shell.execute_reply": "2023-06-04T09:58:46.058329Z",
     "shell.execute_reply.started": "2023-06-04T09:58:46.052679Z"
    }
   },
   "outputs": [
    {
     "data": {
      "text/plain": [
       "(928,)"
      ]
     },
     "execution_count": 24,
     "metadata": {},
     "output_type": "execute_result"
    }
   ],
   "source": [
    "train_y.shape"
   ]
  },
  {
   "cell_type": "markdown",
   "metadata": {},
   "source": [
    "#### Distribution of Data \n",
    "As the graph below shows our data is notnormal distribution. It is right-skewed. \n",
    "\n",
    "In case of the Shapiro test, it makes us to reject H0 \"Sample is from the normal distributions\"."
   ]
  },
  {
   "cell_type": "code",
   "execution_count": 25,
   "metadata": {
    "execution": {
     "iopub.execute_input": "2023-06-04T09:58:46.061038Z",
     "iopub.status.busy": "2023-06-04T09:58:46.060687Z",
     "iopub.status.idle": "2023-06-04T09:58:46.628176Z",
     "shell.execute_reply": "2023-06-04T09:58:46.627194Z",
     "shell.execute_reply.started": "2023-06-04T09:58:46.060999Z"
    },
    "scrolled": true
   },
   "outputs": [
    {
     "data": {
      "text/plain": [
       "ShapiroResult(statistic=0.8139864802360535, pvalue=2.1659555464748597e-31)"
      ]
     },
     "execution_count": 25,
     "metadata": {},
     "output_type": "execute_result"
    },
    {
     "data": {
      "image/png": "[encoded data removed]",
      "text/plain": [
       "<Figure size 432x288 with 1 Axes>"
      ]
     },
     "metadata": {
      "needs_background": "light"
     },
     "output_type": "display_data"
    }
   ],
   "source": [
    "sns.distplot(train_y,kde=True)\n",
    "shapiro(train_y)"
   ]
  },
  {
   "cell_type": "markdown",
   "metadata": {},
   "source": [
    "Naturally, we would like to work with a normal distribution, and there are two approaches to eliminate/reduce skewness:\n",
    "1. Exclude outliers: as we see from the histogram above, in \"charges\" there are no distinct outliers, which would spoil the normality of the distribution.\n",
    "\n",
    "2. log-transform the values: this is what we are going to apply. The result shows, that skewness is still present and the distribution is still non-normal\n",
    "\n"
   ]
  },
  {
   "cell_type": "code",
   "execution_count": 27,
   "metadata": {
    "execution": {
     "iopub.execute_input": "2023-06-04T09:58:46.629748Z",
     "iopub.status.busy": "2023-06-04T09:58:46.629449Z",
     "iopub.status.idle": "2023-06-04T09:58:46.957578Z",
     "shell.execute_reply": "2023-06-04T09:58:46.956484Z",
     "shell.execute_reply.started": "2023-06-04T09:58:46.629722Z"
    }
   },
   "outputs": [
    {
     "data": {
      "text/plain": [
       "ShapiroResult(statistic=0.9831534028053284, pvalue=7.291648174145848e-09)"
      ]
     },
     "execution_count": 27,
     "metadata": {},
     "output_type": "execute_result"
    },
    {
     "data": {
      "image/png": "[encoded data removed]",
      "text/plain": [
       "<Figure size 432x288 with 1 Axes>"
      ]
     },
     "metadata": {},
     "output_type": "display_data"
    }
   ],
   "source": [
    "y_log=np.log(train_y)\n",
    "sns.distplot(y_log,kde=True,color=\"y\")\n",
    "shapiro(y_log)"
   ]
  },
  {
   "cell_type": "markdown",
   "metadata": {},
   "source": [
    "After all, we still have the non-normal distribution \"y_log\" but are going to use it further, together with \"final_x\" "
   ]
  },
  {
   "cell_type": "markdown",
   "metadata": {},
   "source": [
    "### Modelling \n",
    "\n",
    "At this stage, we split both features and target variable data into two sub-datasets: \n",
    "1. \"model_x\" and \"model_y\" datasets (70% of observations) - to train a regressor;\n",
    "2. \"valid_x\" and \"valid_y\" datasets (30% of observations) - to validate a regressor."
   ]
  },
  {
   "cell_type": "code",
   "execution_count": 28,
   "metadata": {
    "execution": {
     "iopub.execute_input": "2023-06-04T09:58:46.959153Z",
     "iopub.status.busy": "2023-06-04T09:58:46.958827Z",
     "iopub.status.idle": "2023-06-04T09:58:46.967473Z",
     "shell.execute_reply": "2023-06-04T09:58:46.966214Z",
     "shell.execute_reply.started": "2023-06-04T09:58:46.959124Z"
    }
   },
   "outputs": [],
   "source": [
    "model_x,valid_x,model_y,valid_y=train_test_split(final_x,y_log,train_size=0.7)"
   ]
  },
  {
   "cell_type": "markdown",
   "metadata": {},
   "source": [
    "###  Machine Learning Algorithms\n",
    "\n",
    "The first step in modelling is to select methods and get the best regression model of each method. We are going to use \n",
    "*GridSearchCV()* function. It performs an exhaustive search over specified hyperparameter values for an estimator. It takes in an estimator object, a dictionary of hyperparameters, and a cross-validation strategy to evaluate the performance of different combinations of hyperparameters.\n",
    "- KNeighborsRegressor(),\n",
    "- RandomForestRegressor(),\n",
    "- DecisionTreeRegressor(),\n",
    "- LinearRegression(),\n",
    "- Lasso() (Least Absolute Shrinkage and Selection Operator),\n",
    "- Ridge()\n",
    "\n",
    "Below there are lists of hyperparameters for 5 of the methods (Linear Regression has no hyperparameters):"
   ]
  },
  {
   "cell_type": "code",
   "execution_count": 29,
   "metadata": {
    "execution": {
     "iopub.execute_input": "2023-06-04T09:58:46.969573Z",
     "iopub.status.busy": "2023-06-04T09:58:46.9691Z",
     "iopub.status.idle": "2023-06-04T09:58:46.982933Z",
     "shell.execute_reply": "2023-06-04T09:58:46.981721Z",
     "shell.execute_reply.started": "2023-06-04T09:58:46.969531Z"
    }
   },
   "outputs": [],
   "source": [
    "params_knn= {'n_neighbors': [2,3,4,5,6,7,8,9,10,11,12,13,14,15],\n",
    "             'weights': ['uniform','distance'],\n",
    "             'p':[1,2,5],\n",
    "             'algorithm':['auto', 'ball_tree', 'kd_tree', 'brute']}\n",
    "\n",
    "params_rf={'bootstrap': [True, False],\n",
    "           'max_depth': [10, 20, 40, 60, 80,100],\n",
    "           'min_samples_leaf': [1, 2, 4],\n",
    "           'min_samples_split': [2, 5, 10],\n",
    "           'n_estimators': [50, 100, 150]}\n",
    "\n",
    "params_dtree={\"splitter\":[\"best\",\"random\"],\n",
    "              \"max_depth\" : [1,3,5,7,9,11,12],\n",
    "              \"min_samples_leaf\":[1,2,3,4,5,6,7,8,9,10],\n",
    "              \"min_weight_fraction_leaf\":[0.1,0.2,0.3,0.4,0.5,0.6,0.7,0.8,0.9],\n",
    "              \"max_features\":[\"log2\",\"sqrt\",None],\n",
    "              \"max_leaf_nodes\":[None,10,20,30,40,50,60,70,80,90] }\n",
    "\n",
    "params_lasso={'alpha':[0.005, 0.02, 0.03, 0.05, 0.06]}\n",
    "\n",
    "params_ridge= {'solver':['svd', 'cholesky', 'lsqr', 'sag'],\n",
    "               'alpha': [1e-5, 1e-4, 1e-3, 1e-2, 1e-1, 1, 10, 100],\n",
    "               'fit_intercept':[True, False]}"
   ]
  },
  {
   "cell_type": "markdown",
   "metadata": {},
   "source": [
    "#### Find  Optimal Estimator \n",
    "\n",
    "Now we are going to find and save the optimal regressor (*‘best_...’*) for each of 6 methods. \n",
    "\n",
    "(*Note, it may take some time for proc to fit all the hyperparameters to each of the methods!*)"
   ]
  },
  {
   "cell_type": "code",
   "execution_count": 30,
   "metadata": {
    "execution": {
     "iopub.execute_input": "2023-06-04T09:58:46.987421Z",
     "iopub.status.busy": "2023-06-04T09:58:46.987053Z",
     "iopub.status.idle": "2023-06-04T09:58:57.214198Z",
     "shell.execute_reply": "2023-06-04T09:58:57.213306Z",
     "shell.execute_reply.started": "2023-06-04T09:58:46.987391Z"
    }
   },
   "outputs": [],
   "source": [
    "# KNears:\n",
    "grid_knears = GridSearchCV(KNeighborsRegressor(), param_grid=params_knn)\n",
    "grid_knears.fit(model_x,model_y)\n",
    "best_knears=grid_knears.best_estimator_ # slowly"
   ]
  },
  {
   "cell_type": "code",
   "execution_count": 31,
   "metadata": {
    "execution": {
     "iopub.execute_input": "2023-06-04T09:58:57.215983Z",
     "iopub.status.busy": "2023-06-04T09:58:57.215524Z",
     "iopub.status.idle": "2023-06-04T10:05:07.85216Z",
     "shell.execute_reply": "2023-06-04T10:05:07.850866Z",
     "shell.execute_reply.started": "2023-06-04T09:58:57.215955Z"
    }
   },
   "outputs": [],
   "source": [
    "# Rand_Forest:\n",
    "grid_rf=GridSearchCV(RandomForestRegressor(), param_grid=params_rf)\n",
    "grid_rf.fit(model_x,model_y)\n",
    "best_rf=grid_rf.best_estimator_ # very slowly"
   ]
  },
  {
   "cell_type": "code",
   "execution_count": 32,
   "metadata": {
    "execution": {
     "iopub.execute_input": "2023-06-04T10:05:07.854275Z",
     "iopub.status.busy": "2023-06-04T10:05:07.853822Z",
     "iopub.status.idle": "2023-06-04T10:14:20.463811Z",
     "shell.execute_reply": "2023-06-04T10:14:20.462713Z",
     "shell.execute_reply.started": "2023-06-04T10:05:07.854236Z"
    }
   },
   "outputs": [],
   "source": [
    "# DTree:\n",
    "grid_dtree=GridSearchCV(DecisionTreeRegressor(), param_grid=params_dtree)\n",
    "grid_dtree.fit(model_x,model_y)\n",
    "best_dtree=grid_dtree.best_estimator_ # slowly"
   ]
  },
  {
   "cell_type": "code",
   "execution_count": 33,
   "metadata": {
    "execution": {
     "iopub.execute_input": "2023-06-04T10:14:20.466423Z",
     "iopub.status.busy": "2023-06-04T10:14:20.465678Z",
     "iopub.status.idle": "2023-06-04T10:14:20.597288Z",
     "shell.execute_reply": "2023-06-04T10:14:20.596232Z",
     "shell.execute_reply.started": "2023-06-04T10:14:20.466393Z"
    }
   },
   "outputs": [],
   "source": [
    "# Lasso:\n",
    "grid_lasso=GridSearchCV(Lasso(), param_grid=params_lasso)\n",
    "grid_lasso.fit(model_x,model_y)\n",
    "best_lasso=grid_lasso.best_estimator_ # very quickly"
   ]
  },
  {
   "cell_type": "code",
   "execution_count": 34,
   "metadata": {
    "execution": {
     "iopub.execute_input": "2023-06-04T10:14:20.599054Z",
     "iopub.status.busy": "2023-06-04T10:14:20.598739Z",
     "iopub.status.idle": "2023-06-04T10:14:22.156513Z",
     "shell.execute_reply": "2023-06-04T10:14:22.15532Z",
     "shell.execute_reply.started": "2023-06-04T10:14:20.599028Z"
    }
   },
   "outputs": [],
   "source": [
    "# Ridge:\n",
    "grid_ridge=GridSearchCV(Ridge(), param_grid=params_ridge)\n",
    "grid_ridge.fit(model_x,model_y)\n",
    "best_ridge=grid_ridge.best_estimator_ # very quickly"
   ]
  },
  {
   "cell_type": "code",
   "execution_count": 35,
   "metadata": {
    "execution": {
     "iopub.execute_input": "2023-06-04T10:14:22.158487Z",
     "iopub.status.busy": "2023-06-04T10:14:22.158087Z",
     "iopub.status.idle": "2023-06-04T10:14:22.16743Z",
     "shell.execute_reply": "2023-06-04T10:14:22.166049Z",
     "shell.execute_reply.started": "2023-06-04T10:14:22.158459Z"
    }
   },
   "outputs": [],
   "source": [
    "# Linear_Regression:\n",
    "best_lin_reg = LinearRegression().fit(model_x,model_y)    # very quickly"
   ]
  },
  {
   "cell_type": "markdown",
   "metadata": {},
   "source": [
    "Now we have 6 estimators:\n",
    "- best_knears\n",
    "- best_rf\n",
    "- best_dtree\n",
    "- best_lasso\n",
    "- best_ridge\n",
    "- best_lin_reg\n",
    "\n",
    "How to decide which is better?\n",
    "\n",
    "So, we can check our estimators with is accuracy. I will use mean of the ‘cross_validation_score’ function:"
   ]
  },
  {
   "cell_type": "code",
   "execution_count": 36,
   "metadata": {
    "execution": {
     "iopub.execute_input": "2023-06-04T10:14:22.169374Z",
     "iopub.status.busy": "2023-06-04T10:14:22.168957Z",
     "iopub.status.idle": "2023-06-04T10:14:22.180063Z",
     "shell.execute_reply": "2023-06-04T10:14:22.178907Z",
     "shell.execute_reply.started": "2023-06-04T10:14:22.169327Z"
    }
   },
   "outputs": [],
   "source": [
    "# Create an empty dataframe for results:\n",
    "acc_df=pd.DataFrame({'KNears':[],\n",
    "                     'Rand_Forest':[],\n",
    "                     'DTree':[],\n",
    "                     'Lasso':[],\n",
    "                     'Ridge':[],\n",
    "                     'Linear_Regression':[],}\n",
    "                   )"
   ]
  },
  {
   "cell_type": "code",
   "execution_count": 37,
   "metadata": {
    "execution": {
     "iopub.execute_input": "2023-06-04T10:14:22.182347Z",
     "iopub.status.busy": "2023-06-04T10:14:22.181985Z",
     "iopub.status.idle": "2023-06-04T10:14:22.197707Z",
     "shell.execute_reply": "2023-06-04T10:14:22.196679Z",
     "shell.execute_reply.started": "2023-06-04T10:14:22.182319Z"
    }
   },
   "outputs": [],
   "source": [
    "# Create list of regressors:\n",
    "best_regrs=[best_knears,best_rf,best_dtree,best_lasso,best_ridge,best_lin_reg]"
   ]
  },
  {
   "cell_type": "code",
   "execution_count": 38,
   "metadata": {
    "execution": {
     "iopub.execute_input": "2023-06-04T10:14:22.199057Z",
     "iopub.status.busy": "2023-06-04T10:14:22.198719Z",
     "iopub.status.idle": "2023-06-04T10:14:23.623578Z",
     "shell.execute_reply": "2023-06-04T10:14:23.622528Z",
     "shell.execute_reply.started": "2023-06-04T10:14:22.199027Z"
    }
   },
   "outputs": [],
   "source": [
    "# extract accuracy scores (both for 'model_x' and 'valid_x' datasets)\n",
    "mod=[]\n",
    "val=[]\n",
    "for i in best_regrs:\n",
    "    temp=round(cross_val_score(i,model_x,model_y).mean(),3)\n",
    "    mod.append(temp)\n",
    "    temp2=round(cross_val_score(i,valid_x,valid_y).mean(),3)\n",
    "    val.append(temp2)"
   ]
  },
  {
   "cell_type": "code",
   "execution_count": 39,
   "metadata": {
    "execution": {
     "iopub.execute_input": "2023-06-04T10:14:23.625751Z",
     "iopub.status.busy": "2023-06-04T10:14:23.625129Z",
     "iopub.status.idle": "2023-06-04T10:14:23.643069Z",
     "shell.execute_reply": "2023-06-04T10:14:23.641954Z",
     "shell.execute_reply.started": "2023-06-04T10:14:23.625711Z"
    }
   },
   "outputs": [
    {
     "data": {
      "text/html": [
       "<div>\n",
       "<style scoped>\n",
       "    .dataframe tbody tr th:only-of-type {\n",
       "        vertical-align: middle;\n",
       "    }\n",
       "\n",
       "    .dataframe tbody tr th {\n",
       "        vertical-align: top;\n",
       "    }\n",
       "\n",
       "    .dataframe thead th {\n",
       "        text-align: right;\n",
       "    }\n",
       "</style>\n",
       "<table border=\"1\" class=\"dataframe\">\n",
       "  <thead>\n",
       "    <tr style=\"text-align: right;\">\n",
       "      <th></th>\n",
       "      <th>KNears</th>\n",
       "      <th>Rand_Forest</th>\n",
       "      <th>DTree</th>\n",
       "      <th>Lasso</th>\n",
       "      <th>Ridge</th>\n",
       "      <th>Linear_Regression</th>\n",
       "    </tr>\n",
       "  </thead>\n",
       "  <tbody>\n",
       "    <tr>\n",
       "      <th>model data</th>\n",
       "      <td>0.783</td>\n",
       "      <td>0.780</td>\n",
       "      <td>0.778</td>\n",
       "      <td>0.739</td>\n",
       "      <td>0.739</td>\n",
       "      <td>0.739</td>\n",
       "    </tr>\n",
       "    <tr>\n",
       "      <th>val. data</th>\n",
       "      <td>0.805</td>\n",
       "      <td>0.836</td>\n",
       "      <td>0.822</td>\n",
       "      <td>0.767</td>\n",
       "      <td>0.767</td>\n",
       "      <td>0.767</td>\n",
       "    </tr>\n",
       "  </tbody>\n",
       "</table>\n",
       "</div>"
      ],
      "text/plain": [
       "            KNears  Rand_Forest  DTree  Lasso  Ridge  Linear_Regression\n",
       "model data   0.783        0.780  0.778  0.739  0.739              0.739\n",
       "val. data    0.805        0.836  0.822  0.767  0.767              0.767"
      ]
     },
     "execution_count": 39,
     "metadata": {},
     "output_type": "execute_result"
    }
   ],
   "source": [
    "# merge both accuracy-sets in one dataframe:\n",
    "accuracy=pd.DataFrame(\n",
    "    [mod,val],\n",
    "    columns=['KNears','Rand_Forest','DTree','Lasso','Ridge','Linear_Regression'])\n",
    "\n",
    "# rename rows:\n",
    "accuracy=accuracy.rename(index={0: 'model data',1:'val. data'})\n",
    "accuracy"
   ]
  },
  {
   "cell_type": "code",
   "execution_count": 49,
   "metadata": {},
   "outputs": [
    {
     "data": {
      "image/png": "[encoded data removed]",
      "text/plain": [
       "<Figure size 1080x720 with 2 Axes>"
      ]
     },
     "metadata": {},
     "output_type": "display_data"
    }
   ],
   "source": [
    "# Create two subplots for comparison\n",
    "fig, axes = plt.subplots(nrows=2, ncols=1, figsize=(15, 10))\n",
    "\n",
    "# Plot for \"model data\"\n",
    "axes[0].bar(accuracy.columns, accuracy.loc['model data'], color='blue')\n",
    "axes[0].set_ylabel('Accuracy')\n",
    "axes[0].set_title('Comparison of Algorithms with Tuned Hyperparameters - Model Data')\n",
    "\n",
    "# Plot for \"val data\"\n",
    "axes[1].bar(accuracy.columns, accuracy.loc['val. data'], color='green')\n",
    "axes[1].set_xlabel('Algorithm')\n",
    "axes[1].set_ylabel('Accuracy')\n",
    "axes[1].set_title('Comparison of Algorithms with Tuned Hyperparameters - Validation Data')\n",
    "\n",
    "# Adjust spacing between subplots\n",
    "plt.subplots_adjust(hspace=0.4)\n",
    "\n",
    "# Show the plot\n",
    "plt.show()"
   ]
  },
  {
   "cell_type": "code",
   "execution_count": 50,
   "metadata": {},
   "outputs": [
    {
     "data": {
      "image/png": "[encoded data removed]",
      "text/plain": [
       "<Figure size 432x288 with 1 Axes>"
      ]
     },
     "metadata": {},
     "output_type": "display_data"
    }
   ],
   "source": [
    "# Create a line plot for model data\n",
    "plt.plot(accuracy.columns, accuracy.loc['model data'], marker='o', label='Model Data')\n",
    "\n",
    "# Create a line plot for val data\n",
    "plt.plot(accuracy.columns, accuracy.loc['val. data'], marker='o', label='Validation Data')\n",
    "\n",
    "plt.xlabel('Algorithm')\n",
    "plt.ylabel('Accuracy')\n",
    "plt.title('Comparison of Algorithms with Tuned Hyperparameters')\n",
    "plt.legend()\n",
    "plt.xticks(rotation=45)\n",
    "plt.grid(True)\n",
    "plt.show()\n"
   ]
  },
  {
   "cell_type": "markdown",
   "metadata": {},
   "source": [
    "The Top-3 regressors are (accuracy >80% on the validation dataset):\n",
    "- 'KNears'\n",
    "- 'Rand_Forest'\n",
    "- 'DTree' \n",
    "\n",
    "The ‘Rand_Forest’ Regressor showed the highest accuracy. But also is slover algorithm. In case of this we can also choose 'DTree' if we want quick solution."
   ]
  },
  {
   "cell_type": "markdown",
   "metadata": {},
   "source": [
    "#### Evaluation  and  Pipeline\n",
    "\n",
    "The last stage is to assess the accuracy of the chosen model with the test data (test_x,test_y).\n",
    "\n",
    "The problem is that test_x contains initial set of variables (children, region, sex, age, bmi, smoker), whereas the model is trained with transformed variables (age, bmi, smoker_yes). It means that we have to modify test_x before fitting it to the \"best_dtree\".\n",
    "\n",
    "Therefore, we have to create a pipeline that would:\n",
    "- take a raw \"children, region, sex, age, bmi, smoker\" data\n",
    "- modify it to the state of \"age, bmi, smoker_yes\"\n",
    "- fit the modified features into the \"best_dtree\" model;\n",
    "- return predicted \"charges\".\n"
   ]
  },
  {
   "cell_type": "code",
   "execution_count": 41,
   "metadata": {
    "execution": {
     "iopub.execute_input": "2023-06-04T10:14:23.644759Z",
     "iopub.status.busy": "2023-06-04T10:14:23.644452Z",
     "iopub.status.idle": "2023-06-04T10:14:23.773245Z",
     "shell.execute_reply": "2023-06-04T10:14:23.77211Z",
     "shell.execute_reply.started": "2023-06-04T10:14:23.644733Z"
    }
   },
   "outputs": [
    {
     "data": {
      "text/html": [
       "<style>#sk-container-id-1 {color: black;background-color: white;}#sk-container-id-1 pre{padding: 0;}#sk-container-id-1 div.sk-toggleable {background-color: white;}#sk-container-id-1 label.sk-toggleable__label {cursor: pointer;display: block;width: 100%;margin-bottom: 0;padding: 0.3em;box-sizing: border-box;text-align: center;}#sk-container-id-1 label.sk-toggleable__label-arrow:before {content: \"▸\";float: left;margin-right: 0.25em;color: #696969;}#sk-container-id-1 label.sk-toggleable__label-arrow:hover:before {color: black;}#sk-container-id-1 div.sk-estimator:hover label.sk-toggleable__label-arrow:before {color: black;}#sk-container-id-1 div.sk-toggleable__content {max-height: 0;max-width: 0;overflow: hidden;text-align: left;background-color: #f0f8ff;}#sk-container-id-1 div.sk-toggleable__content pre {margin: 0.2em;color: black;border-radius: 0.25em;background-color: #f0f8ff;}#sk-container-id-1 input.sk-toggleable__control:checked~div.sk-toggleable__content {max-height: 200px;max-width: 100%;overflow: auto;}#sk-container-id-1 input.sk-toggleable__control:checked~label.sk-toggleable__label-arrow:before {content: \"▾\";}#sk-container-id-1 div.sk-estimator input.sk-toggleable__control:checked~label.sk-toggleable__label {background-color: #d4ebff;}#sk-container-id-1 div.sk-label input.sk-toggleable__control:checked~label.sk-toggleable__label {background-color: #d4ebff;}#sk-container-id-1 input.sk-hidden--visually {border: 0;clip: rect(1px 1px 1px 1px);clip: rect(1px, 1px, 1px, 1px);height: 1px;margin: -1px;overflow: hidden;padding: 0;position: absolute;width: 1px;}#sk-container-id-1 div.sk-estimator {font-family: monospace;background-color: #f0f8ff;border: 1px dotted black;border-radius: 0.25em;box-sizing: border-box;margin-bottom: 0.5em;}#sk-container-id-1 div.sk-estimator:hover {background-color: #d4ebff;}#sk-container-id-1 div.sk-parallel-item::after {content: \"\";width: 100%;border-bottom: 1px solid gray;flex-grow: 1;}#sk-container-id-1 div.sk-label:hover label.sk-toggleable__label {background-color: #d4ebff;}#sk-container-id-1 div.sk-serial::before {content: \"\";position: absolute;border-left: 1px solid gray;box-sizing: border-box;top: 0;bottom: 0;left: 50%;z-index: 0;}#sk-container-id-1 div.sk-serial {display: flex;flex-direction: column;align-items: center;background-color: white;padding-right: 0.2em;padding-left: 0.2em;position: relative;}#sk-container-id-1 div.sk-item {position: relative;z-index: 1;}#sk-container-id-1 div.sk-parallel {display: flex;align-items: stretch;justify-content: center;background-color: white;position: relative;}#sk-container-id-1 div.sk-item::before, #sk-container-id-1 div.sk-parallel-item::before {content: \"\";position: absolute;border-left: 1px solid gray;box-sizing: border-box;top: 0;bottom: 0;left: 50%;z-index: -1;}#sk-container-id-1 div.sk-parallel-item {display: flex;flex-direction: column;z-index: 1;position: relative;background-color: white;}#sk-container-id-1 div.sk-parallel-item:first-child::after {align-self: flex-end;width: 50%;}#sk-container-id-1 div.sk-parallel-item:last-child::after {align-self: flex-start;width: 50%;}#sk-container-id-1 div.sk-parallel-item:only-child::after {width: 0;}#sk-container-id-1 div.sk-dashed-wrapped {border: 1px dashed gray;margin: 0 0.4em 0.5em 0.4em;box-sizing: border-box;padding-bottom: 0.4em;background-color: white;}#sk-container-id-1 div.sk-label label {font-family: monospace;font-weight: bold;display: inline-block;line-height: 1.2em;}#sk-container-id-1 div.sk-label-container {text-align: center;}#sk-container-id-1 div.sk-container {/* jupyter's `normalize.less` sets `[hidden] { display: none; }` but bootstrap.min.css set `[hidden] { display: none !important; }` so we also need the `!important` here to be able to override the default hidden behavior on the sphinx rendered scikit-learn.org. See: https://github.com/scikit-learn/scikit-learn/issues/21755 */display: inline-block !important;position: relative;}#sk-container-id-1 div.sk-text-repr-fallback {display: none;}</style><div id=\"sk-container-id-1\" class=\"sk-top-container\"><div class=\"sk-text-repr-fallback\"><pre>Pipeline(steps=[(&#x27;columntransformer&#x27;,\n",
       "                 ColumnTransformer(transformers=[(&#x27;nums&#x27;,\n",
       "                                                  Pipeline(steps=[(&#x27;simpleimputer&#x27;,\n",
       "                                                                   SimpleImputer()),\n",
       "                                                                  (&#x27;robustscaler&#x27;,\n",
       "                                                                   RobustScaler())]),\n",
       "                                                  &lt;sklearn.compose._column_transformer.make_column_selector object at 0x7fecb32d5ac0&gt;),\n",
       "                                                 (&#x27;cats&#x27;,\n",
       "                                                  Pipeline(steps=[(&#x27;simpleimputer&#x27;,\n",
       "                                                                   SimpleImputer(fill_value=&#x27;Missing&#x27;,\n",
       "                                                                                 strategy=&#x27;constant&#x27;)),\n",
       "                                                                  (&#x27;onehotencoder&#x27;,\n",
       "                                                                   OneHotEncoder())]),\n",
       "                                                  &lt;sklearn.compose._column_transformer.make_column_selector object at 0x7fecc36bbf10&gt;)])),\n",
       "                (&#x27;decisiontreeregressor&#x27;,\n",
       "                 DecisionTreeRegressor(max_depth=11, max_leaf_nodes=50,\n",
       "                                       min_samples_leaf=4,\n",
       "                                       min_weight_fraction_leaf=0.1))])</pre><b>In a Jupyter environment, please rerun this cell to show the HTML representation or trust the notebook. <br />On GitHub, the HTML representation is unable to render, please try loading this page with nbviewer.org.</b></div><div class=\"sk-container\" hidden><div class=\"sk-item sk-dashed-wrapped\"><div class=\"sk-label-container\"><div class=\"sk-label sk-toggleable\"><input class=\"sk-toggleable__control sk-hidden--visually\" id=\"sk-estimator-id-1\" type=\"checkbox\" ><label for=\"sk-estimator-id-1\" class=\"sk-toggleable__label sk-toggleable__label-arrow\">Pipeline</label><div class=\"sk-toggleable__content\"><pre>Pipeline(steps=[(&#x27;columntransformer&#x27;,\n",
       "                 ColumnTransformer(transformers=[(&#x27;nums&#x27;,\n",
       "                                                  Pipeline(steps=[(&#x27;simpleimputer&#x27;,\n",
       "                                                                   SimpleImputer()),\n",
       "                                                                  (&#x27;robustscaler&#x27;,\n",
       "                                                                   RobustScaler())]),\n",
       "                                                  &lt;sklearn.compose._column_transformer.make_column_selector object at 0x7fecb32d5ac0&gt;),\n",
       "                                                 (&#x27;cats&#x27;,\n",
       "                                                  Pipeline(steps=[(&#x27;simpleimputer&#x27;,\n",
       "                                                                   SimpleImputer(fill_value=&#x27;Missing&#x27;,\n",
       "                                                                                 strategy=&#x27;constant&#x27;)),\n",
       "                                                                  (&#x27;onehotencoder&#x27;,\n",
       "                                                                   OneHotEncoder())]),\n",
       "                                                  &lt;sklearn.compose._column_transformer.make_column_selector object at 0x7fecc36bbf10&gt;)])),\n",
       "                (&#x27;decisiontreeregressor&#x27;,\n",
       "                 DecisionTreeRegressor(max_depth=11, max_leaf_nodes=50,\n",
       "                                       min_samples_leaf=4,\n",
       "                                       min_weight_fraction_leaf=0.1))])</pre></div></div></div><div class=\"sk-serial\"><div class=\"sk-item sk-dashed-wrapped\"><div class=\"sk-label-container\"><div class=\"sk-label sk-toggleable\"><input class=\"sk-toggleable__control sk-hidden--visually\" id=\"sk-estimator-id-2\" type=\"checkbox\" ><label for=\"sk-estimator-id-2\" class=\"sk-toggleable__label sk-toggleable__label-arrow\">columntransformer: ColumnTransformer</label><div class=\"sk-toggleable__content\"><pre>ColumnTransformer(transformers=[(&#x27;nums&#x27;,\n",
       "                                 Pipeline(steps=[(&#x27;simpleimputer&#x27;,\n",
       "                                                  SimpleImputer()),\n",
       "                                                 (&#x27;robustscaler&#x27;,\n",
       "                                                  RobustScaler())]),\n",
       "                                 &lt;sklearn.compose._column_transformer.make_column_selector object at 0x7fecb32d5ac0&gt;),\n",
       "                                (&#x27;cats&#x27;,\n",
       "                                 Pipeline(steps=[(&#x27;simpleimputer&#x27;,\n",
       "                                                  SimpleImputer(fill_value=&#x27;Missing&#x27;,\n",
       "                                                                strategy=&#x27;constant&#x27;)),\n",
       "                                                 (&#x27;onehotencoder&#x27;,\n",
       "                                                  OneHotEncoder())]),\n",
       "                                 &lt;sklearn.compose._column_transformer.make_column_selector object at 0x7fecc36bbf10&gt;)])</pre></div></div></div><div class=\"sk-parallel\"><div class=\"sk-parallel-item\"><div class=\"sk-item\"><div class=\"sk-label-container\"><div class=\"sk-label sk-toggleable\"><input class=\"sk-toggleable__control sk-hidden--visually\" id=\"sk-estimator-id-3\" type=\"checkbox\" ><label for=\"sk-estimator-id-3\" class=\"sk-toggleable__label sk-toggleable__label-arrow\">nums</label><div class=\"sk-toggleable__content\"><pre>&lt;sklearn.compose._column_transformer.make_column_selector object at 0x7fecb32d5ac0&gt;</pre></div></div></div><div class=\"sk-serial\"><div class=\"sk-item\"><div class=\"sk-serial\"><div class=\"sk-item\"><div class=\"sk-estimator sk-toggleable\"><input class=\"sk-toggleable__control sk-hidden--visually\" id=\"sk-estimator-id-4\" type=\"checkbox\" ><label for=\"sk-estimator-id-4\" class=\"sk-toggleable__label sk-toggleable__label-arrow\">SimpleImputer</label><div class=\"sk-toggleable__content\"><pre>SimpleImputer()</pre></div></div></div><div class=\"sk-item\"><div class=\"sk-estimator sk-toggleable\"><input class=\"sk-toggleable__control sk-hidden--visually\" id=\"sk-estimator-id-5\" type=\"checkbox\" ><label for=\"sk-estimator-id-5\" class=\"sk-toggleable__label sk-toggleable__label-arrow\">RobustScaler</label><div class=\"sk-toggleable__content\"><pre>RobustScaler()</pre></div></div></div></div></div></div></div></div><div class=\"sk-parallel-item\"><div class=\"sk-item\"><div class=\"sk-label-container\"><div class=\"sk-label sk-toggleable\"><input class=\"sk-toggleable__control sk-hidden--visually\" id=\"sk-estimator-id-6\" type=\"checkbox\" ><label for=\"sk-estimator-id-6\" class=\"sk-toggleable__label sk-toggleable__label-arrow\">cats</label><div class=\"sk-toggleable__content\"><pre>&lt;sklearn.compose._column_transformer.make_column_selector object at 0x7fecc36bbf10&gt;</pre></div></div></div><div class=\"sk-serial\"><div class=\"sk-item\"><div class=\"sk-serial\"><div class=\"sk-item\"><div class=\"sk-estimator sk-toggleable\"><input class=\"sk-toggleable__control sk-hidden--visually\" id=\"sk-estimator-id-7\" type=\"checkbox\" ><label for=\"sk-estimator-id-7\" class=\"sk-toggleable__label sk-toggleable__label-arrow\">SimpleImputer</label><div class=\"sk-toggleable__content\"><pre>SimpleImputer(fill_value=&#x27;Missing&#x27;, strategy=&#x27;constant&#x27;)</pre></div></div></div><div class=\"sk-item\"><div class=\"sk-estimator sk-toggleable\"><input class=\"sk-toggleable__control sk-hidden--visually\" id=\"sk-estimator-id-8\" type=\"checkbox\" ><label for=\"sk-estimator-id-8\" class=\"sk-toggleable__label sk-toggleable__label-arrow\">OneHotEncoder</label><div class=\"sk-toggleable__content\"><pre>OneHotEncoder()</pre></div></div></div></div></div></div></div></div></div></div><div class=\"sk-item\"><div class=\"sk-estimator sk-toggleable\"><input class=\"sk-toggleable__control sk-hidden--visually\" id=\"sk-estimator-id-9\" type=\"checkbox\" ><label for=\"sk-estimator-id-9\" class=\"sk-toggleable__label sk-toggleable__label-arrow\">DecisionTreeRegressor</label><div class=\"sk-toggleable__content\"><pre>DecisionTreeRegressor(max_depth=11, max_leaf_nodes=50, min_samples_leaf=4,\n",
       "                      min_weight_fraction_leaf=0.1)</pre></div></div></div></div></div></div></div>"
      ],
      "text/plain": [
       "Pipeline(steps=[('columntransformer',\n",
       "                 ColumnTransformer(transformers=[('nums',\n",
       "                                                  Pipeline(steps=[('simpleimputer',\n",
       "                                                                   SimpleImputer()),\n",
       "                                                                  ('robustscaler',\n",
       "                                                                   RobustScaler())]),\n",
       "                                                  <sklearn.compose._column_transformer.make_column_selector object at 0x7fecb32d5ac0>),\n",
       "                                                 ('cats',\n",
       "                                                  Pipeline(steps=[('simpleimputer',\n",
       "                                                                   SimpleImputer(fill_value='Missing',\n",
       "                                                                                 strategy='constant')),\n",
       "                                                                  ('onehotencoder',\n",
       "                                                                   OneHotEncoder())]),\n",
       "                                                  <sklearn.compose._column_transformer.make_column_selector object at 0x7fecc36bbf10>)])),\n",
       "                ('decisiontreeregressor',\n",
       "                 DecisionTreeRegressor(max_depth=11, max_leaf_nodes=50,\n",
       "                                       min_samples_leaf=4,\n",
       "                                       min_weight_fraction_leaf=0.1))])"
      ]
     },
     "execution_count": 41,
     "metadata": {},
     "output_type": "execute_result"
    }
   ],
   "source": [
    "# 1. a small pipeline for categorical variables processing:\n",
    "cat_pipe=make_pipeline(\n",
    "    SimpleImputer(missing_values=np.nan,strategy='constant',fill_value='Missing'),\n",
    "    OneHotEncoder()\n",
    ")\n",
    "\n",
    "# 2. a small pipeline for numerical variables processing:\n",
    "num_pipe=make_pipeline(\n",
    "    SimpleImputer(missing_values=np.nan,strategy='mean'),\n",
    "    RobustScaler()\n",
    ")\n",
    "\n",
    "# 3. apply respective variables to 1. and 2. ---> concatenate two resulting data frames into one:\n",
    "preproc_pipe=ColumnTransformer(\n",
    "    [('nums',num_pipe,make_column_selector(dtype_include='number')),\n",
    "     ('cats',cat_pipe,make_column_selector(dtype_include='object'))]\n",
    ")\n",
    "\n",
    "# 4. add the \"best_dtree\" estimator that we have chosen as the best one:\n",
    "estim_pipe=make_pipeline(preproc_pipe, best_dtree)\n",
    "\n",
    "# 5. apply testing dataset to the resulting pipeline:\n",
    "estim_pipe.fit(test_x,test_y)\n"
   ]
  },
  {
   "cell_type": "code",
   "execution_count": 42,
   "metadata": {
    "execution": {
     "iopub.execute_input": "2023-06-04T10:14:23.774721Z",
     "iopub.status.busy": "2023-06-04T10:14:23.774427Z",
     "iopub.status.idle": "2023-06-04T10:14:23.791571Z",
     "shell.execute_reply": "2023-06-04T10:14:23.789735Z",
     "shell.execute_reply.started": "2023-06-04T10:14:23.774696Z"
    }
   },
   "outputs": [
    {
     "name": "stdout",
     "output_type": "stream",
     "text": [
      "Accuracy score:                    0.736\n"
     ]
    }
   ],
   "source": [
    "# built-in method of DTree regressor:\n",
    "acc=estim_pipe.score(test_x,test_y)\n",
    "print(f\"{'Accuracy score:':<25}{round(acc,3):>15}\")"
   ]
  },
  {
   "cell_type": "code",
   "execution_count": 43,
   "metadata": {
    "execution": {
     "iopub.execute_input": "2023-06-04T10:14:23.795425Z",
     "iopub.status.busy": "2023-06-04T10:14:23.794126Z",
     "iopub.status.idle": "2023-06-04T10:14:23.921336Z",
     "shell.execute_reply": "2023-06-04T10:14:23.920084Z",
     "shell.execute_reply.started": "2023-06-04T10:14:23.795389Z"
    }
   },
   "outputs": [
    {
     "name": "stdout",
     "output_type": "stream",
     "text": [
      "Cross-val accuracy score:          0.719\n"
     ]
    }
   ],
   "source": [
    "# mean of 5 cross-validation accuracy scores:\n",
    "acc=cross_val_score(estim_pipe,test_x,test_y).mean()\n",
    "print(f\"{'Cross-val accuracy score:':25}{round(acc,3):>15}\")"
   ]
  },
  {
   "cell_type": "markdown",
   "metadata": {},
   "source": [
    "Since ‘cross-validation’ is more objective, it makes sense to conclude that our regression model ‘best_dtree’ has satisfying accuracy."
   ]
  },
  {
   "cell_type": "code",
   "execution_count": 51,
   "metadata": {},
   "outputs": [
    {
     "data": {
      "text/html": [
       "<style>#sk-container-id-2 {color: black;background-color: white;}#sk-container-id-2 pre{padding: 0;}#sk-container-id-2 div.sk-toggleable {background-color: white;}#sk-container-id-2 label.sk-toggleable__label {cursor: pointer;display: block;width: 100%;margin-bottom: 0;padding: 0.3em;box-sizing: border-box;text-align: center;}#sk-container-id-2 label.sk-toggleable__label-arrow:before {content: \"▸\";float: left;margin-right: 0.25em;color: #696969;}#sk-container-id-2 label.sk-toggleable__label-arrow:hover:before {color: black;}#sk-container-id-2 div.sk-estimator:hover label.sk-toggleable__label-arrow:before {color: black;}#sk-container-id-2 div.sk-toggleable__content {max-height: 0;max-width: 0;overflow: hidden;text-align: left;background-color: #f0f8ff;}#sk-container-id-2 div.sk-toggleable__content pre {margin: 0.2em;color: black;border-radius: 0.25em;background-color: #f0f8ff;}#sk-container-id-2 input.sk-toggleable__control:checked~div.sk-toggleable__content {max-height: 200px;max-width: 100%;overflow: auto;}#sk-container-id-2 input.sk-toggleable__control:checked~label.sk-toggleable__label-arrow:before {content: \"▾\";}#sk-container-id-2 div.sk-estimator input.sk-toggleable__control:checked~label.sk-toggleable__label {background-color: #d4ebff;}#sk-container-id-2 div.sk-label input.sk-toggleable__control:checked~label.sk-toggleable__label {background-color: #d4ebff;}#sk-container-id-2 input.sk-hidden--visually {border: 0;clip: rect(1px 1px 1px 1px);clip: rect(1px, 1px, 1px, 1px);height: 1px;margin: -1px;overflow: hidden;padding: 0;position: absolute;width: 1px;}#sk-container-id-2 div.sk-estimator {font-family: monospace;background-color: #f0f8ff;border: 1px dotted black;border-radius: 0.25em;box-sizing: border-box;margin-bottom: 0.5em;}#sk-container-id-2 div.sk-estimator:hover {background-color: #d4ebff;}#sk-container-id-2 div.sk-parallel-item::after {content: \"\";width: 100%;border-bottom: 1px solid gray;flex-grow: 1;}#sk-container-id-2 div.sk-label:hover label.sk-toggleable__label {background-color: #d4ebff;}#sk-container-id-2 div.sk-serial::before {content: \"\";position: absolute;border-left: 1px solid gray;box-sizing: border-box;top: 0;bottom: 0;left: 50%;z-index: 0;}#sk-container-id-2 div.sk-serial {display: flex;flex-direction: column;align-items: center;background-color: white;padding-right: 0.2em;padding-left: 0.2em;position: relative;}#sk-container-id-2 div.sk-item {position: relative;z-index: 1;}#sk-container-id-2 div.sk-parallel {display: flex;align-items: stretch;justify-content: center;background-color: white;position: relative;}#sk-container-id-2 div.sk-item::before, #sk-container-id-2 div.sk-parallel-item::before {content: \"\";position: absolute;border-left: 1px solid gray;box-sizing: border-box;top: 0;bottom: 0;left: 50%;z-index: -1;}#sk-container-id-2 div.sk-parallel-item {display: flex;flex-direction: column;z-index: 1;position: relative;background-color: white;}#sk-container-id-2 div.sk-parallel-item:first-child::after {align-self: flex-end;width: 50%;}#sk-container-id-2 div.sk-parallel-item:last-child::after {align-self: flex-start;width: 50%;}#sk-container-id-2 div.sk-parallel-item:only-child::after {width: 0;}#sk-container-id-2 div.sk-dashed-wrapped {border: 1px dashed gray;margin: 0 0.4em 0.5em 0.4em;box-sizing: border-box;padding-bottom: 0.4em;background-color: white;}#sk-container-id-2 div.sk-label label {font-family: monospace;font-weight: bold;display: inline-block;line-height: 1.2em;}#sk-container-id-2 div.sk-label-container {text-align: center;}#sk-container-id-2 div.sk-container {/* jupyter's `normalize.less` sets `[hidden] { display: none; }` but bootstrap.min.css set `[hidden] { display: none !important; }` so we also need the `!important` here to be able to override the default hidden behavior on the sphinx rendered scikit-learn.org. See: https://github.com/scikit-learn/scikit-learn/issues/21755 */display: inline-block !important;position: relative;}#sk-container-id-2 div.sk-text-repr-fallback {display: none;}</style><div id=\"sk-container-id-2\" class=\"sk-top-container\"><div class=\"sk-text-repr-fallback\"><pre>Pipeline(steps=[(&#x27;columntransformer&#x27;,\n",
       "                 ColumnTransformer(transformers=[(&#x27;nums&#x27;,\n",
       "                                                  Pipeline(steps=[(&#x27;simpleimputer&#x27;,\n",
       "                                                                   SimpleImputer()),\n",
       "                                                                  (&#x27;robustscaler&#x27;,\n",
       "                                                                   RobustScaler())]),\n",
       "                                                  &lt;sklearn.compose._column_transformer.make_column_selector object at 0x7fec80996640&gt;),\n",
       "                                                 (&#x27;cats&#x27;,\n",
       "                                                  Pipeline(steps=[(&#x27;simpleimputer&#x27;,\n",
       "                                                                   SimpleImputer(fill_value=&#x27;Missing&#x27;,\n",
       "                                                                                 strategy=&#x27;constant&#x27;)),\n",
       "                                                                  (&#x27;onehotencoder&#x27;,\n",
       "                                                                   OneHotEncoder())]),\n",
       "                                                  &lt;sklearn.compose._column_transformer.make_column_selector object at 0x7fec809918b0&gt;)])),\n",
       "                (&#x27;randomforestregressor&#x27;,\n",
       "                 RandomForestRegressor(max_depth=40, min_samples_leaf=4,\n",
       "                                       min_samples_split=10,\n",
       "                                       n_estimators=50))])</pre><b>In a Jupyter environment, please rerun this cell to show the HTML representation or trust the notebook. <br />On GitHub, the HTML representation is unable to render, please try loading this page with nbviewer.org.</b></div><div class=\"sk-container\" hidden><div class=\"sk-item sk-dashed-wrapped\"><div class=\"sk-label-container\"><div class=\"sk-label sk-toggleable\"><input class=\"sk-toggleable__control sk-hidden--visually\" id=\"sk-estimator-id-10\" type=\"checkbox\" ><label for=\"sk-estimator-id-10\" class=\"sk-toggleable__label sk-toggleable__label-arrow\">Pipeline</label><div class=\"sk-toggleable__content\"><pre>Pipeline(steps=[(&#x27;columntransformer&#x27;,\n",
       "                 ColumnTransformer(transformers=[(&#x27;nums&#x27;,\n",
       "                                                  Pipeline(steps=[(&#x27;simpleimputer&#x27;,\n",
       "                                                                   SimpleImputer()),\n",
       "                                                                  (&#x27;robustscaler&#x27;,\n",
       "                                                                   RobustScaler())]),\n",
       "                                                  &lt;sklearn.compose._column_transformer.make_column_selector object at 0x7fec80996640&gt;),\n",
       "                                                 (&#x27;cats&#x27;,\n",
       "                                                  Pipeline(steps=[(&#x27;simpleimputer&#x27;,\n",
       "                                                                   SimpleImputer(fill_value=&#x27;Missing&#x27;,\n",
       "                                                                                 strategy=&#x27;constant&#x27;)),\n",
       "                                                                  (&#x27;onehotencoder&#x27;,\n",
       "                                                                   OneHotEncoder())]),\n",
       "                                                  &lt;sklearn.compose._column_transformer.make_column_selector object at 0x7fec809918b0&gt;)])),\n",
       "                (&#x27;randomforestregressor&#x27;,\n",
       "                 RandomForestRegressor(max_depth=40, min_samples_leaf=4,\n",
       "                                       min_samples_split=10,\n",
       "                                       n_estimators=50))])</pre></div></div></div><div class=\"sk-serial\"><div class=\"sk-item sk-dashed-wrapped\"><div class=\"sk-label-container\"><div class=\"sk-label sk-toggleable\"><input class=\"sk-toggleable__control sk-hidden--visually\" id=\"sk-estimator-id-11\" type=\"checkbox\" ><label for=\"sk-estimator-id-11\" class=\"sk-toggleable__label sk-toggleable__label-arrow\">columntransformer: ColumnTransformer</label><div class=\"sk-toggleable__content\"><pre>ColumnTransformer(transformers=[(&#x27;nums&#x27;,\n",
       "                                 Pipeline(steps=[(&#x27;simpleimputer&#x27;,\n",
       "                                                  SimpleImputer()),\n",
       "                                                 (&#x27;robustscaler&#x27;,\n",
       "                                                  RobustScaler())]),\n",
       "                                 &lt;sklearn.compose._column_transformer.make_column_selector object at 0x7fec80996640&gt;),\n",
       "                                (&#x27;cats&#x27;,\n",
       "                                 Pipeline(steps=[(&#x27;simpleimputer&#x27;,\n",
       "                                                  SimpleImputer(fill_value=&#x27;Missing&#x27;,\n",
       "                                                                strategy=&#x27;constant&#x27;)),\n",
       "                                                 (&#x27;onehotencoder&#x27;,\n",
       "                                                  OneHotEncoder())]),\n",
       "                                 &lt;sklearn.compose._column_transformer.make_column_selector object at 0x7fec809918b0&gt;)])</pre></div></div></div><div class=\"sk-parallel\"><div class=\"sk-parallel-item\"><div class=\"sk-item\"><div class=\"sk-label-container\"><div class=\"sk-label sk-toggleable\"><input class=\"sk-toggleable__control sk-hidden--visually\" id=\"sk-estimator-id-12\" type=\"checkbox\" ><label for=\"sk-estimator-id-12\" class=\"sk-toggleable__label sk-toggleable__label-arrow\">nums</label><div class=\"sk-toggleable__content\"><pre>&lt;sklearn.compose._column_transformer.make_column_selector object at 0x7fec80996640&gt;</pre></div></div></div><div class=\"sk-serial\"><div class=\"sk-item\"><div class=\"sk-serial\"><div class=\"sk-item\"><div class=\"sk-estimator sk-toggleable\"><input class=\"sk-toggleable__control sk-hidden--visually\" id=\"sk-estimator-id-13\" type=\"checkbox\" ><label for=\"sk-estimator-id-13\" class=\"sk-toggleable__label sk-toggleable__label-arrow\">SimpleImputer</label><div class=\"sk-toggleable__content\"><pre>SimpleImputer()</pre></div></div></div><div class=\"sk-item\"><div class=\"sk-estimator sk-toggleable\"><input class=\"sk-toggleable__control sk-hidden--visually\" id=\"sk-estimator-id-14\" type=\"checkbox\" ><label for=\"sk-estimator-id-14\" class=\"sk-toggleable__label sk-toggleable__label-arrow\">RobustScaler</label><div class=\"sk-toggleable__content\"><pre>RobustScaler()</pre></div></div></div></div></div></div></div></div><div class=\"sk-parallel-item\"><div class=\"sk-item\"><div class=\"sk-label-container\"><div class=\"sk-label sk-toggleable\"><input class=\"sk-toggleable__control sk-hidden--visually\" id=\"sk-estimator-id-15\" type=\"checkbox\" ><label for=\"sk-estimator-id-15\" class=\"sk-toggleable__label sk-toggleable__label-arrow\">cats</label><div class=\"sk-toggleable__content\"><pre>&lt;sklearn.compose._column_transformer.make_column_selector object at 0x7fec809918b0&gt;</pre></div></div></div><div class=\"sk-serial\"><div class=\"sk-item\"><div class=\"sk-serial\"><div class=\"sk-item\"><div class=\"sk-estimator sk-toggleable\"><input class=\"sk-toggleable__control sk-hidden--visually\" id=\"sk-estimator-id-16\" type=\"checkbox\" ><label for=\"sk-estimator-id-16\" class=\"sk-toggleable__label sk-toggleable__label-arrow\">SimpleImputer</label><div class=\"sk-toggleable__content\"><pre>SimpleImputer(fill_value=&#x27;Missing&#x27;, strategy=&#x27;constant&#x27;)</pre></div></div></div><div class=\"sk-item\"><div class=\"sk-estimator sk-toggleable\"><input class=\"sk-toggleable__control sk-hidden--visually\" id=\"sk-estimator-id-17\" type=\"checkbox\" ><label for=\"sk-estimator-id-17\" class=\"sk-toggleable__label sk-toggleable__label-arrow\">OneHotEncoder</label><div class=\"sk-toggleable__content\"><pre>OneHotEncoder()</pre></div></div></div></div></div></div></div></div></div></div><div class=\"sk-item\"><div class=\"sk-estimator sk-toggleable\"><input class=\"sk-toggleable__control sk-hidden--visually\" id=\"sk-estimator-id-18\" type=\"checkbox\" ><label for=\"sk-estimator-id-18\" class=\"sk-toggleable__label sk-toggleable__label-arrow\">RandomForestRegressor</label><div class=\"sk-toggleable__content\"><pre>RandomForestRegressor(max_depth=40, min_samples_leaf=4, min_samples_split=10,\n",
       "                      n_estimators=50)</pre></div></div></div></div></div></div></div>"
      ],
      "text/plain": [
       "Pipeline(steps=[('columntransformer',\n",
       "                 ColumnTransformer(transformers=[('nums',\n",
       "                                                  Pipeline(steps=[('simpleimputer',\n",
       "                                                                   SimpleImputer()),\n",
       "                                                                  ('robustscaler',\n",
       "                                                                   RobustScaler())]),\n",
       "                                                  <sklearn.compose._column_transformer.make_column_selector object at 0x7fec80996640>),\n",
       "                                                 ('cats',\n",
       "                                                  Pipeline(steps=[('simpleimputer',\n",
       "                                                                   SimpleImputer(fill_value='Missing',\n",
       "                                                                                 strategy='constant')),\n",
       "                                                                  ('onehotencoder',\n",
       "                                                                   OneHotEncoder())]),\n",
       "                                                  <sklearn.compose._column_transformer.make_column_selector object at 0x7fec809918b0>)])),\n",
       "                ('randomforestregressor',\n",
       "                 RandomForestRegressor(max_depth=40, min_samples_leaf=4,\n",
       "                                       min_samples_split=10,\n",
       "                                       n_estimators=50))])"
      ]
     },
     "execution_count": 51,
     "metadata": {},
     "output_type": "execute_result"
    }
   ],
   "source": [
    "# 1. a small pipeline for categorical variables processing:\n",
    "cat_pipe=make_pipeline(\n",
    "    SimpleImputer(missing_values=np.nan,strategy='constant',fill_value='Missing'),\n",
    "    OneHotEncoder()\n",
    ")\n",
    "\n",
    "# 2. a small pipeline for numerical variables processing:\n",
    "num_pipe=make_pipeline(\n",
    "    SimpleImputer(missing_values=np.nan,strategy='mean'),\n",
    "    RobustScaler()\n",
    ")\n",
    "\n",
    "# 3. apply respective variables to 1. and 2. ---> concatenate two resulting data frames into one:\n",
    "preproc_pipe=ColumnTransformer(\n",
    "    [('nums',num_pipe,make_column_selector(dtype_include='number')),\n",
    "     ('cats',cat_pipe,make_column_selector(dtype_include='object'))]\n",
    ")\n",
    "\n",
    "# 4. add the \"best_rf\" estimator that we have chosen as the best one:\n",
    "estim_pipe=make_pipeline(preproc_pipe, best_rf)\n",
    "\n",
    "# 5. apply testing dataset to the resulting pipeline:\n",
    "estim_pipe.fit(test_x,test_y)"
   ]
  },
  {
   "cell_type": "code",
   "execution_count": 52,
   "metadata": {},
   "outputs": [
    {
     "name": "stdout",
     "output_type": "stream",
     "text": [
      "Accuracy score:                    0.909\n"
     ]
    }
   ],
   "source": [
    "# built-in method of DTree regressor:\n",
    "acc=estim_pipe.score(test_x,test_y)\n",
    "print(f\"{'Accuracy score:':<25}{round(acc,3):>15}\")"
   ]
  },
  {
   "cell_type": "code",
   "execution_count": 53,
   "metadata": {},
   "outputs": [
    {
     "name": "stdout",
     "output_type": "stream",
     "text": [
      "Cross-val accuracy score:          0.837\n"
     ]
    }
   ],
   "source": [
    "# mean of 5 cross-validation accuracy scores:\n",
    "acc=cross_val_score(estim_pipe,test_x,test_y).mean()\n",
    "print(f\"{'Cross-val accuracy score:':25}{round(acc,3):>15}\")"
   ]
  },
  {
   "cell_type": "markdown",
   "metadata": {},
   "source": [
    "### Results"
   ]
  },
  {
   "cell_type": "markdown",
   "metadata": {},
   "source": [
    "After evaluating the performance of the pipeline using the Decision Tree regressor (best_dtree) and the Random Forest regressor (best_rf), it can be concluded that best_rf exhibits higher accuracy compared to best_dtree.\n",
    "\n",
    "The pipeline with best_dtree applies the necessary preprocessing steps to the test data and fits it into the decision tree model. The accuracy score obtained from this pipeline on the test dataset is approximately 0.736. Additionally, the mean of the 5-fold cross-validation accuracy scores is approximately 0.719.\n",
    "\n",
    "On the other hand, the pipeline with best_rf employs the same preprocessing steps but utilizes the random forest regressor. This model shows superior accuracy compared to the decision tree regressor. Although the exact accuracy score is not provided, it is mentioned that best_rf performs better with an accuracy exceeding 80% on the validation dataset.\n",
    "\n",
    "Therefore, based on the information provided, it can be inferred that the Random Forest regressor (best_rf) outperforms the Decision Tree regressor (best_dtree) in terms of accuracy. Choosing best_rf as the preferred model for this task would yield more accurate predictions on the test dataset."
   ]
  }
 ],
 "metadata": {
  "kernelspec": {
   "display_name": "Python 3 (ipykernel)",
   "language": "python",
   "name": "python3"
  },
  "language_info": {
   "codemirror_mode": {
    "name": "ipython",
    "version": 3
   },
   "file_extension": ".py",
   "mimetype": "text/x-python",
   "name": "python",
   "nbconvert_exporter": "python",
   "pygments_lexer": "ipython3",
   "version": "3.9.12"
  }
 },
 "nbformat": 4,
 "nbformat_minor": 4
}
